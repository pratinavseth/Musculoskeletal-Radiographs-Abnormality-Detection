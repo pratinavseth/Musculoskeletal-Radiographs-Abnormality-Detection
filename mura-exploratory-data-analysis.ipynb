{
 "cells": [
  {
   "cell_type": "markdown",
   "id": "8a491d7e",
   "metadata": {
    "hideCode": false,
    "hidePrompt": false,
    "id": "6qroRPzfQYWw",
    "papermill": {
     "duration": 0.112099,
     "end_time": "2022-02-24T11:28:09.936596",
     "exception": false,
     "start_time": "2022-02-24T11:28:09.824497",
     "status": "completed"
    },
    "tags": []
   },
   "source": [
    "# **Musculoskeletal Radiographs Abnormality Detection**\n",
    "\n",
    "# **Exploratory Data Analysis**"
   ]
  },
  {
   "cell_type": "markdown",
   "id": "dbc8c8a3",
   "metadata": {
    "hideCode": false,
    "hidePrompt": false,
    "id": "Zmmx8rBpQYW0",
    "papermill": {
     "duration": 0.134978,
     "end_time": "2022-02-24T11:28:10.186659",
     "exception": false,
     "start_time": "2022-02-24T11:28:10.051681",
     "status": "completed"
    },
    "tags": []
   },
   "source": [
    "### **Problem**\n",
    "\n",
    "Determining whether a radiographic study is normal or abnormal is a critical radiological task: a study interpreted as normal rules out disease and can eliminate the need for patients to undergo further diagnostic procedures or interventions. The musculoskeletal abnormality detection task is particularly critical as more than 1.7 billion people are affected by musculoskeletal conditions worldwide (BMU, 2017). These conditions are the most common cause of severe, long-term pain and disability (Woolf & Pfleger, 2003), with 30 million emergency department visits annually and increasing. Our dataset, MURA, contains 9,045 normal and 5,818 abnormal musculoskeletal radio\u0002graphic studies of the upper extremity including the shoulder, humerus, elbow, forearm, wrist, hand, and finger. MURA is one of the largest public radiographic image datasets. More information about the  the dataset can be found [here](http://stanfordmlgroup.github.io/competitions/mura/)  as well as [in this paper](http://https://arxiv.org/pdf/1712.06957.pdf)"
   ]
  },
  {
   "cell_type": "markdown",
   "id": "5cf46a61",
   "metadata": {
    "hideCode": false,
    "hidePrompt": false,
    "id": "yh_cx7a-QYW6",
    "papermill": {
     "duration": 0.120576,
     "end_time": "2022-02-24T11:28:10.428700",
     "exception": false,
     "start_time": "2022-02-24T11:28:10.308124",
     "status": "completed"
    },
    "tags": []
   },
   "source": [
    "# Libraries"
   ]
  },
  {
   "cell_type": "code",
   "execution_count": 1,
   "id": "8ba50d0c",
   "metadata": {
    "execution": {
     "iopub.execute_input": "2022-02-24T11:28:10.684150Z",
     "iopub.status.busy": "2022-02-24T11:28:10.678167Z",
     "iopub.status.idle": "2022-02-24T11:28:11.563523Z",
     "shell.execute_reply": "2022-02-24T11:28:11.562640Z",
     "shell.execute_reply.started": "2022-02-24T11:21:40.376076Z"
    },
    "executionInfo": {
     "elapsed": 538,
     "status": "ok",
     "timestamp": 1626899159994,
     "user": {
      "displayName": "Konstantina Liagkou",
      "photoUrl": "https://lh3.googleusercontent.com/a-/AOh14Gj1dEPURrFymLH_dlbG5KqWCZ-W1DYZIUZYVdg77w=s64",
      "userId": "09455706173712263529"
     },
     "user_tz": -180
    },
    "id": "AJuEiB6eec-z",
    "outputId": "5b5b5853-68d0-40a5-9bc0-3aae26f16c86",
    "papermill": {
     "duration": 1.013633,
     "end_time": "2022-02-24T11:28:11.563833",
     "exception": false,
     "start_time": "2022-02-24T11:28:10.550200",
     "status": "completed"
    },
    "tags": []
   },
   "outputs": [
    {
     "name": "stdout",
     "output_type": "stream",
     "text": [
      "/bin/bash: nvidia-smi: command not found\r\n"
     ]
    }
   ],
   "source": [
    "!nvidia-smi"
   ]
  },
  {
   "cell_type": "code",
   "execution_count": 2,
   "id": "0123fdde",
   "metadata": {
    "execution": {
     "iopub.execute_input": "2022-02-24T11:28:11.812921Z",
     "iopub.status.busy": "2022-02-24T11:28:11.807973Z",
     "iopub.status.idle": "2022-02-24T11:28:24.508234Z",
     "shell.execute_reply": "2022-02-24T11:28:24.507477Z",
     "shell.execute_reply.started": "2022-02-24T11:21:41.185101Z"
    },
    "executionInfo": {
     "elapsed": 2992,
     "status": "ok",
     "timestamp": 1626899169943,
     "user": {
      "displayName": "Konstantina Liagkou",
      "photoUrl": "https://lh3.googleusercontent.com/a-/AOh14Gj1dEPURrFymLH_dlbG5KqWCZ-W1DYZIUZYVdg77w=s64",
      "userId": "09455706173712263529"
     },
     "user_tz": -180
    },
    "hideCode": false,
    "hidePrompt": false,
    "id": "qSqHhOpTQYW9",
    "papermill": {
     "duration": 12.821834,
     "end_time": "2022-02-24T11:28:24.508408",
     "exception": false,
     "start_time": "2022-02-24T11:28:11.686574",
     "status": "completed"
    },
    "tags": []
   },
   "outputs": [],
   "source": [
    "import os\n",
    "import random\n",
    "from tqdm import tqdm\n",
    "import numpy as np\n",
    "import pandas as pd\n",
    "import matplotlib.pyplot as plt\n",
    "import tensorflow as tf\n",
    "from enum import Enum\n",
    "import cv2\n",
    "from tensorflow.keras import backend as K # Importing Keras backend (by default it is Tensorflow)\n",
    "import gc\n",
    "from tensorflow.keras.utils import to_categorical\n",
    "from keras_preprocessing.image import ImageDataGenerator\n",
    "from sklearn.model_selection import train_test_split"
   ]
  },
  {
   "cell_type": "markdown",
   "id": "95e66c63",
   "metadata": {
    "hideCode": false,
    "hidePrompt": false,
    "id": "5f8JZcgGQYW-",
    "papermill": {
     "duration": 0.10432,
     "end_time": "2022-02-24T11:28:24.730131",
     "exception": false,
     "start_time": "2022-02-24T11:28:24.625811",
     "status": "completed"
    },
    "tags": []
   },
   "source": [
    "# Load data"
   ]
  },
  {
   "cell_type": "markdown",
   "id": "9df3dcf0",
   "metadata": {
    "hideCode": false,
    "hidePrompt": false,
    "id": "uXpB1d33QYW-",
    "papermill": {
     "duration": 0.106873,
     "end_time": "2022-02-24T11:28:24.943488",
     "exception": false,
     "start_time": "2022-02-24T11:28:24.836615",
     "status": "completed"
    },
    "tags": []
   },
   "source": [
    "This data comes as split dataset (training & validation in separate directories). Each data categories such as training & validation has sub-directories (pls see below).\n"
   ]
  },
  {
   "cell_type": "markdown",
   "id": "37687d11",
   "metadata": {
    "hideCode": false,
    "hidePrompt": false,
    "id": "v7tc8hpLQYW-",
    "papermill": {
     "duration": 0.106256,
     "end_time": "2022-02-24T11:28:25.146391",
     "exception": false,
     "start_time": "2022-02-24T11:28:25.040135",
     "status": "completed"
    },
    "tags": []
   },
   "source": [
    "```\n",
    "\n",
    "└─train {data category}\n",
    "│   └───XR_ELBOW {study type}\n",
    "│       │  └───patient00011 {patient}\n",
    "│       │         └───study1_negative {study with label}\n",
    "│       │               └───image1.png {radiographs}\n",
    "│       │               └───image2.png \n",
    "│       │               └───image3.png \n",
    "                        └───...\n",
    "   ...\n",
    "   \n",
    "\n",
    "└─valid {data category}\n",
    "│   └───XR_HUMERUS {study type}\n",
    "│       │  └───patient11216 {patient}\n",
    "│       │         └───study1_negative {study with label}\n",
    "│       │               └───image1.png {radiographs}\n",
    "│       │               └───image2.png \n",
    "                        └───...\n",
    "```"
   ]
  },
  {
   "cell_type": "markdown",
   "id": "e1e7a286",
   "metadata": {
    "id": "3Apmv0qDRo8z",
    "papermill": {
     "duration": 0.111587,
     "end_time": "2022-02-24T11:28:25.373691",
     "exception": false,
     "start_time": "2022-02-24T11:28:25.262104",
     "status": "completed"
    },
    "tags": []
   },
   "source": [
    "## First we Download the dataset"
   ]
  },
  {
   "cell_type": "code",
   "execution_count": 3,
   "id": "22fc819f",
   "metadata": {
    "execution": {
     "iopub.execute_input": "2022-02-24T11:28:25.613580Z",
     "iopub.status.busy": "2022-02-24T11:28:25.612615Z",
     "iopub.status.idle": "2022-02-24T11:28:25.617885Z",
     "shell.execute_reply": "2022-02-24T11:28:25.618366Z",
     "shell.execute_reply.started": "2022-02-24T11:21:47.848179Z"
    },
    "executionInfo": {
     "elapsed": 267999,
     "status": "ok",
     "timestamp": 1626899437913,
     "user": {
      "displayName": "Konstantina Liagkou",
      "photoUrl": "https://lh3.googleusercontent.com/a-/AOh14Gj1dEPURrFymLH_dlbG5KqWCZ-W1DYZIUZYVdg77w=s64",
      "userId": "09455706173712263529"
     },
     "user_tz": -180
    },
    "id": "P2JnkmfCRssS",
    "outputId": "aaacba31-ed37-40da-9638-a566163a4cfb",
    "papermill": {
     "duration": 0.129737,
     "end_time": "2022-02-24T11:28:25.618578",
     "exception": false,
     "start_time": "2022-02-24T11:28:25.488841",
     "status": "completed"
    },
    "tags": []
   },
   "outputs": [
    {
     "data": {
      "text/plain": [
       "\"\\n%%bash\\nwget 'https://cs.stanford.edu/group/mlgroup/MURA-v1.1.zip'\\nunzip MURA-v1.1.zip\\n\""
      ]
     },
     "execution_count": 3,
     "metadata": {},
     "output_type": "execute_result"
    }
   ],
   "source": [
    "\"\"\"\n",
    "%%bash\n",
    "wget 'https://cs.stanford.edu/group/mlgroup/MURA-v1.1.zip'\n",
    "unzip MURA-v1.1.zip\n",
    "\"\"\""
   ]
  },
  {
   "cell_type": "markdown",
   "id": "0ee088c0",
   "metadata": {
    "hideCode": false,
    "hidePrompt": false,
    "id": "7Gfd_TLiQYW_",
    "papermill": {
     "duration": 0.10676,
     "end_time": "2022-02-24T11:28:25.831988",
     "exception": false,
     "start_time": "2022-02-24T11:28:25.725228",
     "status": "completed"
    },
    "tags": []
   },
   "source": [
    "#### Let us load the Dataset"
   ]
  },
  {
   "cell_type": "code",
   "execution_count": 4,
   "id": "6caca56d",
   "metadata": {
    "execution": {
     "iopub.execute_input": "2022-02-24T11:28:26.059509Z",
     "iopub.status.busy": "2022-02-24T11:28:26.058524Z",
     "iopub.status.idle": "2022-02-24T11:28:26.071913Z",
     "shell.execute_reply": "2022-02-24T11:28:26.070844Z",
     "shell.execute_reply.started": "2022-02-24T11:21:47.859275Z"
    },
    "papermill": {
     "duration": 0.12885,
     "end_time": "2022-02-24T11:28:26.072101",
     "exception": false,
     "start_time": "2022-02-24T11:28:25.943251",
     "status": "completed"
    },
    "tags": []
   },
   "outputs": [
    {
     "name": "stdout",
     "output_type": "stream",
     "text": [
      "/kaggle/input/mura-v11\n"
     ]
    }
   ],
   "source": [
    "cd ../input/mura-v11"
   ]
  },
  {
   "cell_type": "markdown",
   "id": "bf18f6ef",
   "metadata": {
    "papermill": {
     "duration": 0.108018,
     "end_time": "2022-02-24T11:28:26.294377",
     "exception": false,
     "start_time": "2022-02-24T11:28:26.186359",
     "status": "completed"
    },
    "tags": []
   },
   "source": [
    "##### Helper Function for loading dataset"
   ]
  },
  {
   "cell_type": "code",
   "execution_count": 5,
   "id": "d0bdf3b3",
   "metadata": {
    "execution": {
     "iopub.execute_input": "2022-02-24T11:28:26.522382Z",
     "iopub.status.busy": "2022-02-24T11:28:26.521154Z",
     "iopub.status.idle": "2022-02-24T11:28:26.532949Z",
     "shell.execute_reply": "2022-02-24T11:28:26.533550Z",
     "shell.execute_reply.started": "2022-02-24T11:21:47.894619Z"
    },
    "executionInfo": {
     "elapsed": 6,
     "status": "ok",
     "timestamp": 1626899505854,
     "user": {
      "displayName": "Konstantina Liagkou",
      "photoUrl": "https://lh3.googleusercontent.com/a-/AOh14Gj1dEPURrFymLH_dlbG5KqWCZ-W1DYZIUZYVdg77w=s64",
      "userId": "09455706173712263529"
     },
     "user_tz": -180
    },
    "hideCode": false,
    "hidePrompt": false,
    "id": "usQBhonYQYW_",
    "papermill": {
     "duration": 0.124492,
     "end_time": "2022-02-24T11:28:26.533771",
     "exception": false,
     "start_time": "2022-02-24T11:28:26.409279",
     "status": "completed"
    },
    "tags": []
   },
   "outputs": [],
   "source": [
    "def load_path(path):\n",
    "    dataset = []\n",
    "    for body in os.listdir(path):\n",
    "        body_part = body\n",
    "\n",
    "        path_p = path+'/'+str(body)\n",
    "\n",
    "        for id_p in os.listdir(path_p):\n",
    "            patient_id = id_p\n",
    "            path_id = path_p+'/'+str(id_p)\n",
    "            for lab in os.listdir(path_id):\n",
    "                if lab.split('_')[-1]=='positive': \n",
    "                    label = 1 \n",
    "                elif lab.split('_')[-1]=='negative':\n",
    "                    label= 0\n",
    "\n",
    "                path_l = path_id+'/'+str(lab)\n",
    "\n",
    "                for img in os.listdir(path_l):\n",
    "                    img_path = path_l + '/' + str(img)\n",
    "    \n",
    "                    dataset.append(\n",
    "                        {\n",
    "                            'body_part': body_part,\n",
    "                            'patient_id': patient_id,\n",
    "                            'label': label,\n",
    "                            'img_path': img_path\n",
    "                        }\n",
    "                    )\n",
    "    return dataset"
   ]
  },
  {
   "cell_type": "code",
   "execution_count": 6,
   "id": "e92afa9f",
   "metadata": {
    "execution": {
     "iopub.execute_input": "2022-02-24T11:28:26.734893Z",
     "iopub.status.busy": "2022-02-24T11:28:26.733793Z",
     "iopub.status.idle": "2022-02-24T11:28:26.750726Z",
     "shell.execute_reply": "2022-02-24T11:28:26.751306Z",
     "shell.execute_reply.started": "2022-02-24T11:21:47.903665Z"
    },
    "executionInfo": {
     "elapsed": 5,
     "status": "ok",
     "timestamp": 1626899505854,
     "user": {
      "displayName": "Konstantina Liagkou",
      "photoUrl": "https://lh3.googleusercontent.com/a-/AOh14Gj1dEPURrFymLH_dlbG5KqWCZ-W1DYZIUZYVdg77w=s64",
      "userId": "09455706173712263529"
     },
     "user_tz": -180
    },
    "hideCode": false,
    "hidePrompt": false,
    "id": "n8S0KYUAQYXA",
    "outputId": "72dce8f9-c7fc-407e-cd5d-d46821760a8f",
    "papermill": {
     "duration": 0.116473,
     "end_time": "2022-02-24T11:28:26.751718",
     "exception": false,
     "start_time": "2022-02-24T11:28:26.635245",
     "status": "completed"
    },
    "tags": []
   },
   "outputs": [
    {
     "data": {
      "text/plain": [
       "['XR_WRIST',\n",
       " 'XR_FINGER',\n",
       " 'XR_SHOULDER',\n",
       " 'XR_HAND',\n",
       " 'XR_FOREARM',\n",
       " 'XR_HUMERUS',\n",
       " 'XR_ELBOW']"
      ]
     },
     "execution_count": 6,
     "metadata": {},
     "output_type": "execute_result"
    }
   ],
   "source": [
    "path = 'MURA-v1.1/train'\n",
    "os.listdir(path)"
   ]
  },
  {
   "cell_type": "code",
   "execution_count": 7,
   "id": "e7238ce5",
   "metadata": {
    "execution": {
     "iopub.execute_input": "2022-02-24T11:28:27.026361Z",
     "iopub.status.busy": "2022-02-24T11:28:27.025557Z",
     "iopub.status.idle": "2022-02-24T11:29:40.833591Z",
     "shell.execute_reply": "2022-02-24T11:29:40.834656Z",
     "shell.execute_reply.started": "2022-02-24T11:21:47.949073Z"
    },
    "executionInfo": {
     "elapsed": 735,
     "status": "ok",
     "timestamp": 1626899506586,
     "user": {
      "displayName": "Konstantina Liagkou",
      "photoUrl": "https://lh3.googleusercontent.com/a-/AOh14Gj1dEPURrFymLH_dlbG5KqWCZ-W1DYZIUZYVdg77w=s64",
      "userId": "09455706173712263529"
     },
     "user_tz": -180
    },
    "hideCode": false,
    "hidePrompt": false,
    "id": "a8ao-JO7QYXA",
    "outputId": "2d210901-3ca3-441e-d53a-3df47810477f",
    "papermill": {
     "duration": 73.952251,
     "end_time": "2022-02-24T11:29:40.835377",
     "exception": false,
     "start_time": "2022-02-24T11:28:26.883126",
     "status": "completed"
    },
    "tags": []
   },
   "outputs": [
    {
     "data": {
      "text/html": [
       "<div>\n",
       "<style scoped>\n",
       "    .dataframe tbody tr th:only-of-type {\n",
       "        vertical-align: middle;\n",
       "    }\n",
       "\n",
       "    .dataframe tbody tr th {\n",
       "        vertical-align: top;\n",
       "    }\n",
       "\n",
       "    .dataframe thead th {\n",
       "        text-align: right;\n",
       "    }\n",
       "</style>\n",
       "<table border=\"1\" class=\"dataframe\">\n",
       "  <thead>\n",
       "    <tr style=\"text-align: right;\">\n",
       "      <th></th>\n",
       "      <th>body_part</th>\n",
       "      <th>patient_id</th>\n",
       "      <th>label</th>\n",
       "      <th>img_path</th>\n",
       "    </tr>\n",
       "  </thead>\n",
       "  <tbody>\n",
       "    <tr>\n",
       "      <th>0</th>\n",
       "      <td>XR_WRIST</td>\n",
       "      <td>patient07547</td>\n",
       "      <td>0</td>\n",
       "      <td>MURA-v1.1/train/XR_WRIST/patient07547/study1_n...</td>\n",
       "    </tr>\n",
       "    <tr>\n",
       "      <th>1</th>\n",
       "      <td>XR_WRIST</td>\n",
       "      <td>patient07547</td>\n",
       "      <td>0</td>\n",
       "      <td>MURA-v1.1/train/XR_WRIST/patient07547/study1_n...</td>\n",
       "    </tr>\n",
       "  </tbody>\n",
       "</table>\n",
       "</div>"
      ],
      "text/plain": [
       "  body_part    patient_id  label  \\\n",
       "0  XR_WRIST  patient07547      0   \n",
       "1  XR_WRIST  patient07547      0   \n",
       "\n",
       "                                            img_path  \n",
       "0  MURA-v1.1/train/XR_WRIST/patient07547/study1_n...  \n",
       "1  MURA-v1.1/train/XR_WRIST/patient07547/study1_n...  "
      ]
     },
     "execution_count": 7,
     "metadata": {},
     "output_type": "execute_result"
    }
   ],
   "source": [
    "dataset = load_path(path)\n",
    "df_train = pd.DataFrame(dataset)\n",
    "df_train.head(2)"
   ]
  },
  {
   "cell_type": "code",
   "execution_count": 8,
   "id": "77136bdb",
   "metadata": {
    "execution": {
     "iopub.execute_input": "2022-02-24T11:29:41.084721Z",
     "iopub.status.busy": "2022-02-24T11:29:41.083399Z",
     "iopub.status.idle": "2022-02-24T11:29:48.074421Z",
     "shell.execute_reply": "2022-02-24T11:29:48.073214Z",
     "shell.execute_reply.started": "2022-02-24T11:22:42.864110Z"
    },
    "executionInfo": {
     "elapsed": 30,
     "status": "ok",
     "timestamp": 1626899506589,
     "user": {
      "displayName": "Konstantina Liagkou",
      "photoUrl": "https://lh3.googleusercontent.com/a-/AOh14Gj1dEPURrFymLH_dlbG5KqWCZ-W1DYZIUZYVdg77w=s64",
      "userId": "09455706173712263529"
     },
     "user_tz": -180
    },
    "hideCode": false,
    "hidePrompt": false,
    "id": "dtHzEg62QYXB",
    "outputId": "228795eb-32bd-4e9d-abcf-2857646328a2",
    "papermill": {
     "duration": 7.110425,
     "end_time": "2022-02-24T11:29:48.074628",
     "exception": false,
     "start_time": "2022-02-24T11:29:40.964203",
     "status": "completed"
    },
    "tags": []
   },
   "outputs": [],
   "source": [
    "dataset_test = load_path(path = 'MURA-v1.1/valid')\n",
    "df_test = pd.DataFrame(dataset_test)"
   ]
  },
  {
   "cell_type": "markdown",
   "id": "b0a19f7e",
   "metadata": {
    "id": "-yDgtVhELIZc",
    "papermill": {
     "duration": 0.102853,
     "end_time": "2022-02-24T11:29:48.288392",
     "exception": false,
     "start_time": "2022-02-24T11:29:48.185539",
     "status": "completed"
    },
    "tags": []
   },
   "source": [
    "## Data Preprocessing"
   ]
  },
  {
   "cell_type": "markdown",
   "id": "c986be29",
   "metadata": {
    "papermill": {
     "duration": 0.098103,
     "end_time": "2022-02-24T11:29:48.479159",
     "exception": false,
     "start_time": "2022-02-24T11:29:48.381056",
     "status": "completed"
    },
    "tags": []
   },
   "source": [
    "#### Creating Dataset for the Model traing and generating Labels for the same."
   ]
  },
  {
   "cell_type": "code",
   "execution_count": 9,
   "id": "d17480bf",
   "metadata": {
    "execution": {
     "iopub.execute_input": "2022-02-24T11:29:48.690189Z",
     "iopub.status.busy": "2022-02-24T11:29:48.689422Z",
     "iopub.status.idle": "2022-02-24T11:29:48.694260Z",
     "shell.execute_reply": "2022-02-24T11:29:48.694847Z",
     "shell.execute_reply.started": "2022-02-24T11:22:46.874938Z"
    },
    "executionInfo": {
     "elapsed": 30,
     "status": "ok",
     "timestamp": 1626899507138,
     "user": {
      "displayName": "Konstantina Liagkou",
      "photoUrl": "https://lh3.googleusercontent.com/a-/AOh14Gj1dEPURrFymLH_dlbG5KqWCZ-W1DYZIUZYVdg77w=s64",
      "userId": "09455706173712263529"
     },
     "user_tz": -180
    },
    "id": "lnzyehT7NaUI",
    "papermill": {
     "duration": 0.121399,
     "end_time": "2022-02-24T11:29:48.695057",
     "exception": false,
     "start_time": "2022-02-24T11:29:48.573658",
     "status": "completed"
    },
    "tags": []
   },
   "outputs": [
    {
     "data": {
      "text/html": [
       "<div>\n",
       "<style scoped>\n",
       "    .dataframe tbody tr th:only-of-type {\n",
       "        vertical-align: middle;\n",
       "    }\n",
       "\n",
       "    .dataframe tbody tr th {\n",
       "        vertical-align: top;\n",
       "    }\n",
       "\n",
       "    .dataframe thead th {\n",
       "        text-align: right;\n",
       "    }\n",
       "</style>\n",
       "<table border=\"1\" class=\"dataframe\">\n",
       "  <thead>\n",
       "    <tr style=\"text-align: right;\">\n",
       "      <th></th>\n",
       "      <th>body_part</th>\n",
       "      <th>patient_id</th>\n",
       "      <th>label</th>\n",
       "      <th>img_path</th>\n",
       "      <th>label_index</th>\n",
       "    </tr>\n",
       "  </thead>\n",
       "  <tbody>\n",
       "    <tr>\n",
       "      <th>0</th>\n",
       "      <td>XR_WRIST</td>\n",
       "      <td>patient07547</td>\n",
       "      <td>0</td>\n",
       "      <td>MURA-v1.1/train/XR_WRIST/patient07547/study1_n...</td>\n",
       "      <td>0</td>\n",
       "    </tr>\n",
       "    <tr>\n",
       "      <th>1</th>\n",
       "      <td>XR_WRIST</td>\n",
       "      <td>patient07547</td>\n",
       "      <td>0</td>\n",
       "      <td>MURA-v1.1/train/XR_WRIST/patient07547/study1_n...</td>\n",
       "      <td>0</td>\n",
       "    </tr>\n",
       "    <tr>\n",
       "      <th>2</th>\n",
       "      <td>XR_WRIST</td>\n",
       "      <td>patient07547</td>\n",
       "      <td>0</td>\n",
       "      <td>MURA-v1.1/train/XR_WRIST/patient07547/study1_n...</td>\n",
       "      <td>0</td>\n",
       "    </tr>\n",
       "  </tbody>\n",
       "</table>\n",
       "</div>"
      ],
      "text/plain": [
       "  body_part    patient_id  label  \\\n",
       "0  XR_WRIST  patient07547      0   \n",
       "1  XR_WRIST  patient07547      0   \n",
       "2  XR_WRIST  patient07547      0   \n",
       "\n",
       "                                            img_path  label_index  \n",
       "0  MURA-v1.1/train/XR_WRIST/patient07547/study1_n...            0  \n",
       "1  MURA-v1.1/train/XR_WRIST/patient07547/study1_n...            0  \n",
       "2  MURA-v1.1/train/XR_WRIST/patient07547/study1_n...            0  "
      ]
     },
     "execution_count": 9,
     "metadata": {},
     "output_type": "execute_result"
    }
   ],
   "source": [
    "df_train['label_index']= df_train.label\n",
    "df_train.label_index.replace('positive', 1, inplace=True)\n",
    "df_train.label_index.replace('negative', 0, inplace=True)\n",
    "df_train.head(3)"
   ]
  },
  {
   "cell_type": "code",
   "execution_count": 10,
   "id": "07c1999c",
   "metadata": {
    "execution": {
     "iopub.execute_input": "2022-02-24T11:29:48.891465Z",
     "iopub.status.busy": "2022-02-24T11:29:48.885864Z",
     "iopub.status.idle": "2022-02-24T11:29:48.894930Z",
     "shell.execute_reply": "2022-02-24T11:29:48.895479Z",
     "shell.execute_reply.started": "2022-02-24T11:22:46.894645Z"
    },
    "executionInfo": {
     "elapsed": 28,
     "status": "ok",
     "timestamp": 1626899507141,
     "user": {
      "displayName": "Konstantina Liagkou",
      "photoUrl": "https://lh3.googleusercontent.com/a-/AOh14Gj1dEPURrFymLH_dlbG5KqWCZ-W1DYZIUZYVdg77w=s64",
      "userId": "09455706173712263529"
     },
     "user_tz": -180
    },
    "id": "cPUviMCQK90J",
    "outputId": "371c243b-302c-4487-f759-dc695cb3f2c0",
    "papermill": {
     "duration": 0.108724,
     "end_time": "2022-02-24T11:29:48.895708",
     "exception": false,
     "start_time": "2022-02-24T11:29:48.786984",
     "status": "completed"
    },
    "tags": []
   },
   "outputs": [],
   "source": [
    "df_test['label_index']= df_test.label\n",
    "df_test.label_index.replace('positive', 1, inplace=True)\n",
    "df_test.label_index.replace('negative', 0, inplace=True)"
   ]
  },
  {
   "cell_type": "markdown",
   "id": "36f2083d",
   "metadata": {
    "hideCode": false,
    "hidePrompt": false,
    "id": "Vk7cMIR5QYXL",
    "papermill": {
     "duration": 0.118464,
     "end_time": "2022-02-24T11:29:49.122294",
     "exception": false,
     "start_time": "2022-02-24T11:29:49.003830",
     "status": "completed"
    },
    "tags": []
   },
   "source": [
    "## Exploratory Data Analysis"
   ]
  },
  {
   "cell_type": "code",
   "execution_count": 11,
   "id": "398e9625",
   "metadata": {
    "execution": {
     "iopub.execute_input": "2022-02-24T11:29:49.326050Z",
     "iopub.status.busy": "2022-02-24T11:29:49.325328Z",
     "iopub.status.idle": "2022-02-24T11:29:49.330702Z",
     "shell.execute_reply": "2022-02-24T11:29:49.331201Z",
     "shell.execute_reply.started": "2022-02-24T11:22:46.904626Z"
    },
    "hideCode": false,
    "hidePrompt": false,
    "id": "1BtLzuZFQYXL",
    "outputId": "d52cfb92-672d-442f-ba68-b79ae96f66c7",
    "papermill": {
     "duration": 0.108034,
     "end_time": "2022-02-24T11:29:49.331389",
     "exception": false,
     "start_time": "2022-02-24T11:29:49.223355",
     "status": "completed"
    },
    "tags": []
   },
   "outputs": [
    {
     "name": "stdout",
     "output_type": "stream",
     "text": [
      "We have 36812 train images from all body parts\n"
     ]
    }
   ],
   "source": [
    "print('We have '+str(len(df_train))+' train images from all body parts')"
   ]
  },
  {
   "cell_type": "code",
   "execution_count": 12,
   "id": "d897d5e1",
   "metadata": {
    "execution": {
     "iopub.execute_input": "2022-02-24T11:29:49.536034Z",
     "iopub.status.busy": "2022-02-24T11:29:49.535224Z",
     "iopub.status.idle": "2022-02-24T11:29:49.541320Z",
     "shell.execute_reply": "2022-02-24T11:29:49.542334Z",
     "shell.execute_reply.started": "2022-02-24T11:22:46.920223Z"
    },
    "papermill": {
     "duration": 0.117938,
     "end_time": "2022-02-24T11:29:49.542570",
     "exception": false,
     "start_time": "2022-02-24T11:29:49.424632",
     "status": "completed"
    },
    "tags": []
   },
   "outputs": [
    {
     "name": "stdout",
     "output_type": "stream",
     "text": [
      "Total Number of training images :  36812\n"
     ]
    }
   ],
   "source": [
    "print(\"Total Number of training images : \", len(df_train[\"img_path\"]))"
   ]
  },
  {
   "cell_type": "code",
   "execution_count": 13,
   "id": "7ab41d6f",
   "metadata": {
    "execution": {
     "iopub.execute_input": "2022-02-24T11:29:49.751541Z",
     "iopub.status.busy": "2022-02-24T11:29:49.750803Z",
     "iopub.status.idle": "2022-02-24T11:29:49.775738Z",
     "shell.execute_reply": "2022-02-24T11:29:49.776298Z",
     "shell.execute_reply.started": "2022-02-24T11:22:46.930938Z"
    },
    "papermill": {
     "duration": 0.130171,
     "end_time": "2022-02-24T11:29:49.776660",
     "exception": false,
     "start_time": "2022-02-24T11:29:49.646489",
     "status": "completed"
    },
    "tags": []
   },
   "outputs": [
    {
     "name": "stdout",
     "output_type": "stream",
     "text": [
      "\n",
      "\n",
      "number of null values in:\n",
      " body_part      0\n",
      "patient_id     0\n",
      "label          0\n",
      "img_path       0\n",
      "label_index    0\n",
      "dtype: int64\n"
     ]
    }
   ],
   "source": [
    "print (\"\\n\\nnumber of null values in:\\n\", df_train.isnull().sum())"
   ]
  },
  {
   "cell_type": "code",
   "execution_count": 14,
   "id": "fc7ae462",
   "metadata": {
    "execution": {
     "iopub.execute_input": "2022-02-24T11:29:49.993051Z",
     "iopub.status.busy": "2022-02-24T11:29:49.991695Z",
     "iopub.status.idle": "2022-02-24T11:29:50.000053Z",
     "shell.execute_reply": "2022-02-24T11:29:50.000636Z",
     "shell.execute_reply.started": "2022-02-24T11:22:46.956808Z"
    },
    "papermill": {
     "duration": 0.123877,
     "end_time": "2022-02-24T11:29:50.000834",
     "exception": false,
     "start_time": "2022-02-24T11:29:49.876957",
     "status": "completed"
    },
    "tags": []
   },
   "outputs": [
    {
     "name": "stdout",
     "output_type": "stream",
     "text": [
      "\n",
      "\n",
      "categories:\n",
      "              body_part\n",
      "XR_WRIST          9756\n",
      "XR_SHOULDER       8379\n",
      "XR_HAND           5543\n",
      "XR_FINGER         5106\n",
      "XR_ELBOW          4931\n",
      "XR_FOREARM        1825\n",
      "XR_HUMERUS        1272\n"
     ]
    }
   ],
   "source": [
    "categories_counts = pd.DataFrame(df_train['body_part'].value_counts())\n",
    "print ('\\n\\ncategories:\\n',categories_counts )"
   ]
  },
  {
   "cell_type": "code",
   "execution_count": 15,
   "id": "23852947",
   "metadata": {
    "execution": {
     "iopub.execute_input": "2022-02-24T11:29:50.216530Z",
     "iopub.status.busy": "2022-02-24T11:29:50.211222Z",
     "iopub.status.idle": "2022-02-24T11:29:50.225818Z",
     "shell.execute_reply": "2022-02-24T11:29:50.226407Z",
     "shell.execute_reply.started": "2022-02-24T11:22:46.969212Z"
    },
    "papermill": {
     "duration": 0.122904,
     "end_time": "2022-02-24T11:29:50.226609",
     "exception": false,
     "start_time": "2022-02-24T11:29:50.103705",
     "status": "completed"
    },
    "tags": []
   },
   "outputs": [
    {
     "name": "stdout",
     "output_type": "stream",
     "text": [
      "\n",
      "\n",
      "number of patients: 11184\n"
     ]
    }
   ],
   "source": [
    "print('\\n\\nnumber of patients:',df_train['patient_id'].nunique())"
   ]
  },
  {
   "cell_type": "code",
   "execution_count": 16,
   "id": "ebd7f4b7",
   "metadata": {
    "execution": {
     "iopub.execute_input": "2022-02-24T11:29:50.417867Z",
     "iopub.status.busy": "2022-02-24T11:29:50.417061Z",
     "iopub.status.idle": "2022-02-24T11:29:50.423629Z",
     "shell.execute_reply": "2022-02-24T11:29:50.424170Z",
     "shell.execute_reply.started": "2022-02-24T11:22:46.981618Z"
    },
    "papermill": {
     "duration": 0.102296,
     "end_time": "2022-02-24T11:29:50.424381",
     "exception": false,
     "start_time": "2022-02-24T11:29:50.322085",
     "status": "completed"
    },
    "tags": []
   },
   "outputs": [
    {
     "name": "stdout",
     "output_type": "stream",
     "text": [
      "\n",
      "\n",
      "Number of different labels: 2\n"
     ]
    }
   ],
   "source": [
    "print('\\n\\nNumber of different labels:',df_train['label'].nunique())"
   ]
  },
  {
   "cell_type": "markdown",
   "id": "fcf2f5ae",
   "metadata": {
    "papermill": {
     "duration": 0.10644,
     "end_time": "2022-02-24T11:29:50.638320",
     "exception": false,
     "start_time": "2022-02-24T11:29:50.531880",
     "status": "completed"
    },
    "tags": []
   },
   "source": [
    "#### Different Catagories of Body in which we are checking for abnormality"
   ]
  },
  {
   "cell_type": "code",
   "execution_count": 17,
   "id": "f54ca80e",
   "metadata": {
    "execution": {
     "iopub.execute_input": "2022-02-24T11:29:50.875877Z",
     "iopub.status.busy": "2022-02-24T11:29:50.873024Z",
     "iopub.status.idle": "2022-02-24T11:29:50.882353Z",
     "shell.execute_reply": "2022-02-24T11:29:50.881627Z",
     "shell.execute_reply.started": "2022-02-24T11:22:46.988671Z"
    },
    "hideCode": false,
    "hidePrompt": false,
    "id": "jBFqU0A5QYXL",
    "outputId": "caaf0882-b678-4732-de01-3650e82ecb90",
    "papermill": {
     "duration": 0.126276,
     "end_time": "2022-02-24T11:29:50.882620",
     "exception": false,
     "start_time": "2022-02-24T11:29:50.756344",
     "status": "completed"
    },
    "tags": []
   },
   "outputs": [
    {
     "name": "stdout",
     "output_type": "stream",
     "text": [
      "We have Bone X-Ray from: \n",
      "XR_WRIST\n",
      "XR_FINGER\n",
      "XR_SHOULDER\n",
      "XR_HAND\n",
      "XR_FOREARM\n",
      "XR_HUMERUS\n",
      "XR_ELBOW\n"
     ]
    }
   ],
   "source": [
    "print('We have Bone X-Ray from: ')\n",
    "path = 'MURA-v1.1/train'\n",
    "print(*os.listdir(path), sep = \"\\n\")"
   ]
  },
  {
   "cell_type": "markdown",
   "id": "f1c7ab73",
   "metadata": {
    "papermill": {
     "duration": 0.111717,
     "end_time": "2022-02-24T11:29:51.117033",
     "exception": false,
     "start_time": "2022-02-24T11:29:51.005316",
     "status": "completed"
    },
    "tags": []
   },
   "source": [
    "##### Helper Function for Visualization of Dataset"
   ]
  },
  {
   "cell_type": "code",
   "execution_count": 18,
   "id": "1fcf5f8b",
   "metadata": {
    "execution": {
     "iopub.execute_input": "2022-02-24T11:29:51.329083Z",
     "iopub.status.busy": "2022-02-24T11:29:51.328305Z",
     "iopub.status.idle": "2022-02-24T11:29:51.334772Z",
     "shell.execute_reply": "2022-02-24T11:29:51.335369Z",
     "shell.execute_reply.started": "2022-02-24T11:22:47.001259Z"
    },
    "hideCode": false,
    "hidePrompt": false,
    "id": "6HSflIQTQYXM",
    "papermill": {
     "duration": 0.107603,
     "end_time": "2022-02-24T11:29:51.335570",
     "exception": false,
     "start_time": "2022-02-24T11:29:51.227967",
     "status": "completed"
    },
    "tags": []
   },
   "outputs": [],
   "source": [
    "def count_distrib(df_body, body_name):\n",
    "    grouped = df_body.groupby(df_body.label)\n",
    "    pos = len(grouped.get_group(1))\n",
    "    print('We have ' +str(pos)+ ' positive with abnormality '+ body_name + ' scans')\n",
    "    neg = len(grouped.get_group(0))\n",
    "    print( 'We have ' +str(neg)+ ' negative with abnormality '+ body_name + ' scans')\n",
    "    total = len(df_body)\n",
    "    return body_name, pos, neg, total"
   ]
  },
  {
   "cell_type": "markdown",
   "id": "1a8d0bcc",
   "metadata": {
    "hideCode": false,
    "hidePrompt": false,
    "id": "bxcv8PFkQYXL",
    "papermill": {
     "duration": 0.102859,
     "end_time": "2022-02-24T11:29:51.534119",
     "exception": false,
     "start_time": "2022-02-24T11:29:51.431260",
     "status": "completed"
    },
    "tags": []
   },
   "source": [
    "#### Exploring Different Catagories of Body in which we are checking for abnormality"
   ]
  },
  {
   "cell_type": "markdown",
   "id": "fecb1951",
   "metadata": {
    "papermill": {
     "duration": 0.113185,
     "end_time": "2022-02-24T11:29:51.763002",
     "exception": false,
     "start_time": "2022-02-24T11:29:51.649817",
     "status": "completed"
    },
    "tags": []
   },
   "source": [
    "### 1. Elbow Joint"
   ]
  },
  {
   "cell_type": "code",
   "execution_count": 19,
   "id": "44dbd052",
   "metadata": {
    "execution": {
     "iopub.execute_input": "2022-02-24T11:29:51.988344Z",
     "iopub.status.busy": "2022-02-24T11:29:51.987503Z",
     "iopub.status.idle": "2022-02-24T11:29:52.014840Z",
     "shell.execute_reply": "2022-02-24T11:29:52.015935Z",
     "shell.execute_reply.started": "2022-02-24T11:22:47.010612Z"
    },
    "hideCode": false,
    "hidePrompt": false,
    "id": "ENAAmj4BQYXM",
    "outputId": "d96b9a0f-7d77-4741-d107-0b6d200dc6ea",
    "papermill": {
     "duration": 0.144372,
     "end_time": "2022-02-24T11:29:52.016386",
     "exception": false,
     "start_time": "2022-02-24T11:29:51.872014",
     "status": "completed"
    },
    "tags": []
   },
   "outputs": [
    {
     "data": {
      "text/html": [
       "<div>\n",
       "<style scoped>\n",
       "    .dataframe tbody tr th:only-of-type {\n",
       "        vertical-align: middle;\n",
       "    }\n",
       "\n",
       "    .dataframe tbody tr th {\n",
       "        vertical-align: top;\n",
       "    }\n",
       "\n",
       "    .dataframe thead th {\n",
       "        text-align: right;\n",
       "    }\n",
       "</style>\n",
       "<table border=\"1\" class=\"dataframe\">\n",
       "  <thead>\n",
       "    <tr style=\"text-align: right;\">\n",
       "      <th></th>\n",
       "      <th>body_part</th>\n",
       "      <th>patient_id</th>\n",
       "      <th>label</th>\n",
       "      <th>img_path</th>\n",
       "      <th>label_index</th>\n",
       "    </tr>\n",
       "  </thead>\n",
       "  <tbody>\n",
       "    <tr>\n",
       "      <th>31881</th>\n",
       "      <td>XR_ELBOW</td>\n",
       "      <td>patient05626</td>\n",
       "      <td>0</td>\n",
       "      <td>MURA-v1.1/train/XR_ELBOW/patient05626/study1_n...</td>\n",
       "      <td>0</td>\n",
       "    </tr>\n",
       "    <tr>\n",
       "      <th>31882</th>\n",
       "      <td>XR_ELBOW</td>\n",
       "      <td>patient05626</td>\n",
       "      <td>0</td>\n",
       "      <td>MURA-v1.1/train/XR_ELBOW/patient05626/study1_n...</td>\n",
       "      <td>0</td>\n",
       "    </tr>\n",
       "    <tr>\n",
       "      <th>31883</th>\n",
       "      <td>XR_ELBOW</td>\n",
       "      <td>patient06133</td>\n",
       "      <td>0</td>\n",
       "      <td>MURA-v1.1/train/XR_ELBOW/patient06133/study1_n...</td>\n",
       "      <td>0</td>\n",
       "    </tr>\n",
       "    <tr>\n",
       "      <th>31884</th>\n",
       "      <td>XR_ELBOW</td>\n",
       "      <td>patient06133</td>\n",
       "      <td>0</td>\n",
       "      <td>MURA-v1.1/train/XR_ELBOW/patient06133/study1_n...</td>\n",
       "      <td>0</td>\n",
       "    </tr>\n",
       "  </tbody>\n",
       "</table>\n",
       "</div>"
      ],
      "text/plain": [
       "      body_part    patient_id  label  \\\n",
       "31881  XR_ELBOW  patient05626      0   \n",
       "31882  XR_ELBOW  patient05626      0   \n",
       "31883  XR_ELBOW  patient06133      0   \n",
       "31884  XR_ELBOW  patient06133      0   \n",
       "\n",
       "                                                img_path  label_index  \n",
       "31881  MURA-v1.1/train/XR_ELBOW/patient05626/study1_n...            0  \n",
       "31882  MURA-v1.1/train/XR_ELBOW/patient05626/study1_n...            0  \n",
       "31883  MURA-v1.1/train/XR_ELBOW/patient06133/study1_n...            0  \n",
       "31884  MURA-v1.1/train/XR_ELBOW/patient06133/study1_n...            0  "
      ]
     },
     "execution_count": 19,
     "metadata": {},
     "output_type": "execute_result"
    }
   ],
   "source": [
    "grouped = df_train.groupby(df_train.body_part)\n",
    "df_XR_ELBOW = grouped.get_group(\"XR_ELBOW\")\n",
    "df_XR_ELBOW.head(4)"
   ]
  },
  {
   "cell_type": "code",
   "execution_count": 20,
   "id": "f61f2e4d",
   "metadata": {
    "execution": {
     "iopub.execute_input": "2022-02-24T11:29:52.264780Z",
     "iopub.status.busy": "2022-02-24T11:29:52.263193Z",
     "iopub.status.idle": "2022-02-24T11:29:52.268012Z",
     "shell.execute_reply": "2022-02-24T11:29:52.268757Z",
     "shell.execute_reply.started": "2022-02-24T11:22:47.036818Z"
    },
    "hideCode": false,
    "hidePrompt": false,
    "id": "lkwNEGdQQYXM",
    "outputId": "df36c6f3-ccd5-49a6-c31e-ed5dcc93272a",
    "papermill": {
     "duration": 0.125675,
     "end_time": "2022-02-24T11:29:52.268975",
     "exception": false,
     "start_time": "2022-02-24T11:29:52.143300",
     "status": "completed"
    },
    "tags": []
   },
   "outputs": [
    {
     "name": "stdout",
     "output_type": "stream",
     "text": [
      "Number of training Examples for ELBOW Joint :  4931\n"
     ]
    }
   ],
   "source": [
    "print(\"Number of training Examples for ELBOW Joint : \",len(df_XR_ELBOW))"
   ]
  },
  {
   "cell_type": "code",
   "execution_count": 21,
   "id": "03488550",
   "metadata": {
    "execution": {
     "iopub.execute_input": "2022-02-24T11:29:52.484942Z",
     "iopub.status.busy": "2022-02-24T11:29:52.484195Z",
     "iopub.status.idle": "2022-02-24T11:29:52.489681Z",
     "shell.execute_reply": "2022-02-24T11:29:52.490279Z",
     "shell.execute_reply.started": "2022-02-24T11:22:47.042269Z"
    },
    "hideCode": false,
    "hidePrompt": false,
    "id": "pO94WaP-QYXM",
    "papermill": {
     "duration": 0.119761,
     "end_time": "2022-02-24T11:29:52.490495",
     "exception": false,
     "start_time": "2022-02-24T11:29:52.370734",
     "status": "completed"
    },
    "tags": []
   },
   "outputs": [],
   "source": [
    "training_data_distr = []"
   ]
  },
  {
   "cell_type": "code",
   "execution_count": 22,
   "id": "12bd065f",
   "metadata": {
    "execution": {
     "iopub.execute_input": "2022-02-24T11:29:52.719429Z",
     "iopub.status.busy": "2022-02-24T11:29:52.718728Z",
     "iopub.status.idle": "2022-02-24T11:29:52.731053Z",
     "shell.execute_reply": "2022-02-24T11:29:52.731691Z",
     "shell.execute_reply.started": "2022-02-24T11:22:47.051779Z"
    },
    "hideCode": false,
    "hidePrompt": false,
    "id": "fE35mfAHQYXM",
    "outputId": "0f120b1c-046d-45e1-c291-2ee1abc76929",
    "papermill": {
     "duration": 0.135996,
     "end_time": "2022-02-24T11:29:52.731888",
     "exception": false,
     "start_time": "2022-02-24T11:29:52.595892",
     "status": "completed"
    },
    "tags": []
   },
   "outputs": [
    {
     "name": "stdout",
     "output_type": "stream",
     "text": [
      "We have 2006 positive with abnormality XR_ELBOW scans\n",
      "We have 2925 negative with abnormality XR_ELBOW scans\n"
     ]
    }
   ],
   "source": [
    "body_name, pos, neg, total = count_distrib(df_XR_ELBOW, 'XR_ELBOW')\n",
    "\n",
    "training_data_distr.append(\n",
    "                    {\n",
    "                    'body_part': body_name,\n",
    "                    'positive': pos,\n",
    "                    'negative': neg,\n",
    "                    'total':total\n",
    "                    })"
   ]
  },
  {
   "cell_type": "markdown",
   "id": "4335ca71",
   "metadata": {
    "papermill": {
     "duration": 0.10841,
     "end_time": "2022-02-24T11:29:52.950587",
     "exception": false,
     "start_time": "2022-02-24T11:29:52.842177",
     "status": "completed"
    },
    "tags": []
   },
   "source": [
    "### 2. Finger Joint"
   ]
  },
  {
   "cell_type": "code",
   "execution_count": 23,
   "id": "1a4d12f6",
   "metadata": {
    "execution": {
     "iopub.execute_input": "2022-02-24T11:29:53.173200Z",
     "iopub.status.busy": "2022-02-24T11:29:53.172483Z",
     "iopub.status.idle": "2022-02-24T11:29:53.177256Z",
     "shell.execute_reply": "2022-02-24T11:29:53.177840Z",
     "shell.execute_reply.started": "2022-02-24T11:22:47.065366Z"
    },
    "hideCode": false,
    "hidePrompt": false,
    "id": "2PQvsswsQYXN",
    "outputId": "afafd7c7-4c31-46d3-ffd1-8f4386352d41",
    "papermill": {
     "duration": 0.11737,
     "end_time": "2022-02-24T11:29:53.178052",
     "exception": false,
     "start_time": "2022-02-24T11:29:53.060682",
     "status": "completed"
    },
    "tags": []
   },
   "outputs": [],
   "source": [
    "df_XR_FINGER = grouped.get_group(\"XR_FINGER\")\n"
   ]
  },
  {
   "cell_type": "code",
   "execution_count": 24,
   "id": "74a38ab1",
   "metadata": {
    "execution": {
     "iopub.execute_input": "2022-02-24T11:29:53.418674Z",
     "iopub.status.busy": "2022-02-24T11:29:53.417462Z",
     "iopub.status.idle": "2022-02-24T11:29:53.423357Z",
     "shell.execute_reply": "2022-02-24T11:29:53.423864Z",
     "shell.execute_reply.started": "2022-02-24T11:22:47.072548Z"
    },
    "hideCode": false,
    "hidePrompt": false,
    "id": "_DVZh8TKQYXN",
    "outputId": "a023e2c8-4853-4a3e-faf9-6c6af485411c",
    "papermill": {
     "duration": 0.119965,
     "end_time": "2022-02-24T11:29:53.424084",
     "exception": false,
     "start_time": "2022-02-24T11:29:53.304119",
     "status": "completed"
    },
    "tags": []
   },
   "outputs": [
    {
     "name": "stdout",
     "output_type": "stream",
     "text": [
      "Number of training XR_FINGER:  5106\n"
     ]
    }
   ],
   "source": [
    "print(\"Number of training XR_FINGER: \",len(df_XR_FINGER))"
   ]
  },
  {
   "cell_type": "code",
   "execution_count": 25,
   "id": "2c069393",
   "metadata": {
    "execution": {
     "iopub.execute_input": "2022-02-24T11:29:53.641435Z",
     "iopub.status.busy": "2022-02-24T11:29:53.640677Z",
     "iopub.status.idle": "2022-02-24T11:29:53.650509Z",
     "shell.execute_reply": "2022-02-24T11:29:53.651623Z",
     "shell.execute_reply.started": "2022-02-24T11:22:47.082327Z"
    },
    "hideCode": false,
    "hidePrompt": false,
    "id": "19UKUhYXQYXN",
    "outputId": "5cdacc0f-7ed4-4c46-cd3b-e0a0380182da",
    "papermill": {
     "duration": 0.118944,
     "end_time": "2022-02-24T11:29:53.652301",
     "exception": false,
     "start_time": "2022-02-24T11:29:53.533357",
     "status": "completed"
    },
    "tags": []
   },
   "outputs": [
    {
     "name": "stdout",
     "output_type": "stream",
     "text": [
      "We have 1968 positive with abnormality XR_FINGER scans\n",
      "We have 3138 negative with abnormality XR_FINGER scans\n"
     ]
    }
   ],
   "source": [
    "body_name, pos, neg, total = count_distrib(df_XR_FINGER, 'XR_FINGER')\n",
    "\n",
    "training_data_distr.append(\n",
    "                    {\n",
    "                    'body_part': body_name,\n",
    "                    'positive': pos,\n",
    "                    'negative': neg,\n",
    "                    'total':total\n",
    "                    })"
   ]
  },
  {
   "cell_type": "markdown",
   "id": "4afbb8fe",
   "metadata": {
    "papermill": {
     "duration": 0.101494,
     "end_time": "2022-02-24T11:29:53.855569",
     "exception": false,
     "start_time": "2022-02-24T11:29:53.754075",
     "status": "completed"
    },
    "tags": []
   },
   "source": [
    "### 3. Forearm Joint"
   ]
  },
  {
   "cell_type": "code",
   "execution_count": 26,
   "id": "873406b7",
   "metadata": {
    "execution": {
     "iopub.execute_input": "2022-02-24T11:29:54.079486Z",
     "iopub.status.busy": "2022-02-24T11:29:54.078588Z",
     "iopub.status.idle": "2022-02-24T11:29:54.085359Z",
     "shell.execute_reply": "2022-02-24T11:29:54.089576Z",
     "shell.execute_reply.started": "2022-02-24T11:22:47.093104Z"
    },
    "hideCode": false,
    "hidePrompt": false,
    "id": "Baoy50vlQYXN",
    "outputId": "2a4cca48-5b53-431e-803d-cc3e4d9e2348",
    "papermill": {
     "duration": 0.127428,
     "end_time": "2022-02-24T11:29:54.089928",
     "exception": false,
     "start_time": "2022-02-24T11:29:53.962500",
     "status": "completed"
    },
    "tags": []
   },
   "outputs": [],
   "source": [
    "df_XR_FOREARM = grouped.get_group(\"XR_FOREARM\")"
   ]
  },
  {
   "cell_type": "code",
   "execution_count": 27,
   "id": "8e301b2d",
   "metadata": {
    "execution": {
     "iopub.execute_input": "2022-02-24T11:29:54.311422Z",
     "iopub.status.busy": "2022-02-24T11:29:54.310686Z",
     "iopub.status.idle": "2022-02-24T11:29:54.318715Z",
     "shell.execute_reply": "2022-02-24T11:29:54.319313Z",
     "shell.execute_reply.started": "2022-02-24T11:22:47.103252Z"
    },
    "hideCode": false,
    "hidePrompt": false,
    "id": "VxZBhLZtQYXN",
    "outputId": "6a522608-2948-4713-abdc-aba5cbd4ec74",
    "papermill": {
     "duration": 0.121262,
     "end_time": "2022-02-24T11:29:54.319555",
     "exception": false,
     "start_time": "2022-02-24T11:29:54.198293",
     "status": "completed"
    },
    "tags": []
   },
   "outputs": [
    {
     "name": "stdout",
     "output_type": "stream",
     "text": [
      "Number of training XR_FOREARM:  1825\n"
     ]
    }
   ],
   "source": [
    "print(\"Number of training XR_FOREARM: \",len(df_XR_FOREARM))"
   ]
  },
  {
   "cell_type": "code",
   "execution_count": 28,
   "id": "9eb5191a",
   "metadata": {
    "execution": {
     "iopub.execute_input": "2022-02-24T11:29:54.559881Z",
     "iopub.status.busy": "2022-02-24T11:29:54.558557Z",
     "iopub.status.idle": "2022-02-24T11:29:54.566094Z",
     "shell.execute_reply": "2022-02-24T11:29:54.566577Z",
     "shell.execute_reply.started": "2022-02-24T11:22:47.113132Z"
    },
    "hideCode": false,
    "hidePrompt": false,
    "id": "pkKiIVqGQYXN",
    "outputId": "011c6b3b-63f6-4d80-a09b-9ba157038a28",
    "papermill": {
     "duration": 0.125454,
     "end_time": "2022-02-24T11:29:54.566800",
     "exception": false,
     "start_time": "2022-02-24T11:29:54.441346",
     "status": "completed"
    },
    "tags": []
   },
   "outputs": [
    {
     "name": "stdout",
     "output_type": "stream",
     "text": [
      "We have 661 positive with abnormality XR_FOREARM scans\n",
      "We have 1164 negative with abnormality XR_FOREARM scans\n"
     ]
    }
   ],
   "source": [
    "body_name, pos, neg, total = count_distrib(df_XR_FOREARM, 'XR_FOREARM')\n",
    "\n",
    "training_data_distr.append(\n",
    "                    {\n",
    "                    'body_part': body_name,\n",
    "                    'positive': pos,\n",
    "                    'negative': neg,\n",
    "                    'total':total\n",
    "                    })"
   ]
  },
  {
   "cell_type": "markdown",
   "id": "03d1e3f9",
   "metadata": {
    "papermill": {
     "duration": 0.118179,
     "end_time": "2022-02-24T11:29:54.793443",
     "exception": false,
     "start_time": "2022-02-24T11:29:54.675264",
     "status": "completed"
    },
    "tags": []
   },
   "source": [
    "### 4. Hand Joint"
   ]
  },
  {
   "cell_type": "code",
   "execution_count": 29,
   "id": "86a229b9",
   "metadata": {
    "execution": {
     "iopub.execute_input": "2022-02-24T11:29:55.041030Z",
     "iopub.status.busy": "2022-02-24T11:29:55.040065Z",
     "iopub.status.idle": "2022-02-24T11:29:55.044561Z",
     "shell.execute_reply": "2022-02-24T11:29:55.043508Z",
     "shell.execute_reply.started": "2022-02-24T11:22:47.125159Z"
    },
    "hideCode": false,
    "hidePrompt": false,
    "id": "4zWWTFtfQYXO",
    "outputId": "c438616c-da97-491e-a846-d8faeb5f6ef3",
    "papermill": {
     "duration": 0.135064,
     "end_time": "2022-02-24T11:29:55.044744",
     "exception": false,
     "start_time": "2022-02-24T11:29:54.909680",
     "status": "completed"
    },
    "tags": []
   },
   "outputs": [],
   "source": [
    "df_XR_HAND = grouped.get_group(\"XR_HAND\")"
   ]
  },
  {
   "cell_type": "code",
   "execution_count": 30,
   "id": "bed009dc",
   "metadata": {
    "execution": {
     "iopub.execute_input": "2022-02-24T11:29:55.319371Z",
     "iopub.status.busy": "2022-02-24T11:29:55.318451Z",
     "iopub.status.idle": "2022-02-24T11:29:55.322017Z",
     "shell.execute_reply": "2022-02-24T11:29:55.322579Z",
     "shell.execute_reply.started": "2022-02-24T11:22:47.132549Z"
    },
    "hideCode": false,
    "hidePrompt": false,
    "id": "1kxdhJNuQYXO",
    "outputId": "95e7c964-e58d-4f76-f1ee-a2c2111c2714",
    "papermill": {
     "duration": 0.145728,
     "end_time": "2022-02-24T11:29:55.322812",
     "exception": false,
     "start_time": "2022-02-24T11:29:55.177084",
     "status": "completed"
    },
    "tags": []
   },
   "outputs": [
    {
     "name": "stdout",
     "output_type": "stream",
     "text": [
      "Number of training XR_HAND:  5543\n"
     ]
    }
   ],
   "source": [
    "print(\"Number of training XR_HAND: \",len(df_XR_HAND))"
   ]
  },
  {
   "cell_type": "code",
   "execution_count": 31,
   "id": "14ddc7d2",
   "metadata": {
    "execution": {
     "iopub.execute_input": "2022-02-24T11:29:55.583483Z",
     "iopub.status.busy": "2022-02-24T11:29:55.582350Z",
     "iopub.status.idle": "2022-02-24T11:29:55.597840Z",
     "shell.execute_reply": "2022-02-24T11:29:55.598720Z",
     "shell.execute_reply.started": "2022-02-24T11:22:47.142674Z"
    },
    "hideCode": false,
    "hidePrompt": false,
    "id": "yO-scBKWQYXO",
    "outputId": "6b9b57d6-add0-4660-f8f5-972e3df305b9",
    "papermill": {
     "duration": 0.153456,
     "end_time": "2022-02-24T11:29:55.598998",
     "exception": false,
     "start_time": "2022-02-24T11:29:55.445542",
     "status": "completed"
    },
    "tags": []
   },
   "outputs": [
    {
     "name": "stdout",
     "output_type": "stream",
     "text": [
      "We have 1484 positive with abnormality XR_HAND scans\n",
      "We have 4059 negative with abnormality XR_HAND scans\n"
     ]
    }
   ],
   "source": [
    "body_name, pos, neg, total = count_distrib(df_XR_HAND, 'XR_HAND')\n",
    "\n",
    "training_data_distr.append(\n",
    "                    {\n",
    "                    'body_part': body_name,\n",
    "                    'positive': pos,\n",
    "                    'negative': neg,\n",
    "                    'total':total\n",
    "                    })"
   ]
  },
  {
   "cell_type": "markdown",
   "id": "1ea1f9b7",
   "metadata": {
    "papermill": {
     "duration": 0.154073,
     "end_time": "2022-02-24T11:29:55.918492",
     "exception": false,
     "start_time": "2022-02-24T11:29:55.764419",
     "status": "completed"
    },
    "tags": []
   },
   "source": [
    "### 5. Humerus Joint"
   ]
  },
  {
   "cell_type": "code",
   "execution_count": 32,
   "id": "a8e9bc97",
   "metadata": {
    "execution": {
     "iopub.execute_input": "2022-02-24T11:29:56.200390Z",
     "iopub.status.busy": "2022-02-24T11:29:56.199669Z",
     "iopub.status.idle": "2022-02-24T11:29:56.208599Z",
     "shell.execute_reply": "2022-02-24T11:29:56.209286Z",
     "shell.execute_reply.started": "2022-02-24T11:22:47.156479Z"
    },
    "hideCode": false,
    "hidePrompt": false,
    "id": "sSZzuyHcQYXO",
    "outputId": "8af2045d-0389-45c0-d7b3-252f832edb2c",
    "papermill": {
     "duration": 0.148515,
     "end_time": "2022-02-24T11:29:56.209544",
     "exception": false,
     "start_time": "2022-02-24T11:29:56.061029",
     "status": "completed"
    },
    "tags": []
   },
   "outputs": [],
   "source": [
    "df_XR_HUMERUS = grouped.get_group(\"XR_HUMERUS\")"
   ]
  },
  {
   "cell_type": "code",
   "execution_count": 33,
   "id": "d66b04b2",
   "metadata": {
    "execution": {
     "iopub.execute_input": "2022-02-24T11:29:56.459415Z",
     "iopub.status.busy": "2022-02-24T11:29:56.458545Z",
     "iopub.status.idle": "2022-02-24T11:29:56.466210Z",
     "shell.execute_reply": "2022-02-24T11:29:56.466944Z",
     "shell.execute_reply.started": "2022-02-24T11:22:47.163423Z"
    },
    "hideCode": false,
    "hidePrompt": false,
    "id": "sWrKc-jnQYXO",
    "outputId": "5fd5aed5-c714-4eca-afb1-0016f09a3ac9",
    "papermill": {
     "duration": 0.137982,
     "end_time": "2022-02-24T11:29:56.467156",
     "exception": false,
     "start_time": "2022-02-24T11:29:56.329174",
     "status": "completed"
    },
    "tags": []
   },
   "outputs": [
    {
     "name": "stdout",
     "output_type": "stream",
     "text": [
      "Number of training XR_HUMERUS:  1272\n"
     ]
    }
   ],
   "source": [
    "print(\"Number of training XR_HUMERUS: \",len(df_XR_HUMERUS))"
   ]
  },
  {
   "cell_type": "code",
   "execution_count": 34,
   "id": "6a745090",
   "metadata": {
    "execution": {
     "iopub.execute_input": "2022-02-24T11:29:56.734919Z",
     "iopub.status.busy": "2022-02-24T11:29:56.733477Z",
     "iopub.status.idle": "2022-02-24T11:29:56.743164Z",
     "shell.execute_reply": "2022-02-24T11:29:56.743765Z",
     "shell.execute_reply.started": "2022-02-24T11:22:47.173237Z"
    },
    "hideCode": false,
    "hidePrompt": false,
    "id": "GZ7rkalBQYXO",
    "outputId": "e8812872-0daf-4309-8a5d-db5e47cb61b8",
    "papermill": {
     "duration": 0.142798,
     "end_time": "2022-02-24T11:29:56.743987",
     "exception": false,
     "start_time": "2022-02-24T11:29:56.601189",
     "status": "completed"
    },
    "tags": []
   },
   "outputs": [
    {
     "name": "stdout",
     "output_type": "stream",
     "text": [
      "We have 599 positive with abnormality XR_HUMERUS scans\n",
      "We have 673 negative with abnormality XR_HUMERUS scans\n"
     ]
    }
   ],
   "source": [
    "body_name, pos, neg, total = count_distrib(df_XR_HUMERUS, 'XR_HUMERUS')\n",
    "\n",
    "training_data_distr.append(\n",
    "                    {\n",
    "                    'body_part': body_name,\n",
    "                    'positive': pos,\n",
    "                    'negative': neg,\n",
    "                    'total':total\n",
    "                    })"
   ]
  },
  {
   "cell_type": "markdown",
   "id": "b4fef379",
   "metadata": {
    "papermill": {
     "duration": 0.162518,
     "end_time": "2022-02-24T11:29:57.043029",
     "exception": false,
     "start_time": "2022-02-24T11:29:56.880511",
     "status": "completed"
    },
    "tags": []
   },
   "source": [
    "### 6. Shoulder Joint"
   ]
  },
  {
   "cell_type": "code",
   "execution_count": 35,
   "id": "86993361",
   "metadata": {
    "execution": {
     "iopub.execute_input": "2022-02-24T11:29:57.330613Z",
     "iopub.status.busy": "2022-02-24T11:29:57.326837Z",
     "iopub.status.idle": "2022-02-24T11:29:57.334696Z",
     "shell.execute_reply": "2022-02-24T11:29:57.335311Z",
     "shell.execute_reply.started": "2022-02-24T11:22:47.185778Z"
    },
    "hideCode": false,
    "hidePrompt": false,
    "id": "BZ_4_rmeQYXP",
    "outputId": "576a0495-dd22-45ad-bee9-ec8f9ed63f14",
    "papermill": {
     "duration": 0.14332,
     "end_time": "2022-02-24T11:29:57.335506",
     "exception": false,
     "start_time": "2022-02-24T11:29:57.192186",
     "status": "completed"
    },
    "tags": []
   },
   "outputs": [],
   "source": [
    "df_XR_SHOULDER = grouped.get_group(\"XR_SHOULDER\")"
   ]
  },
  {
   "cell_type": "code",
   "execution_count": 36,
   "id": "58727a56",
   "metadata": {
    "execution": {
     "iopub.execute_input": "2022-02-24T11:29:57.630403Z",
     "iopub.status.busy": "2022-02-24T11:29:57.629590Z",
     "iopub.status.idle": "2022-02-24T11:29:57.635184Z",
     "shell.execute_reply": "2022-02-24T11:29:57.635763Z",
     "shell.execute_reply.started": "2022-02-24T11:22:47.194100Z"
    },
    "hideCode": false,
    "hidePrompt": false,
    "id": "G1SvZGTuQYXP",
    "outputId": "b67b38ab-2671-41e5-b75d-4ae01aa858c2",
    "papermill": {
     "duration": 0.157592,
     "end_time": "2022-02-24T11:29:57.635992",
     "exception": false,
     "start_time": "2022-02-24T11:29:57.478400",
     "status": "completed"
    },
    "tags": []
   },
   "outputs": [
    {
     "name": "stdout",
     "output_type": "stream",
     "text": [
      "Number of training XR_SHOULDER:  8379\n"
     ]
    }
   ],
   "source": [
    "print(\"Number of training XR_SHOULDER: \",len(df_XR_SHOULDER))"
   ]
  },
  {
   "cell_type": "code",
   "execution_count": 37,
   "id": "2a41dd53",
   "metadata": {
    "execution": {
     "iopub.execute_input": "2022-02-24T11:29:57.928472Z",
     "iopub.status.busy": "2022-02-24T11:29:57.926830Z",
     "iopub.status.idle": "2022-02-24T11:29:57.942091Z",
     "shell.execute_reply": "2022-02-24T11:29:57.941339Z",
     "shell.execute_reply.started": "2022-02-24T11:22:47.201844Z"
    },
    "hideCode": false,
    "hidePrompt": false,
    "id": "ztv5S_A2QYXP",
    "outputId": "2d9eb68f-03e0-45cf-e367-3868e7fcb87d",
    "papermill": {
     "duration": 0.160565,
     "end_time": "2022-02-24T11:29:57.942254",
     "exception": false,
     "start_time": "2022-02-24T11:29:57.781689",
     "status": "completed"
    },
    "tags": []
   },
   "outputs": [
    {
     "name": "stdout",
     "output_type": "stream",
     "text": [
      "We have 4168 positive with abnormality XR_SHOULDER scans\n",
      "We have 4211 negative with abnormality XR_SHOULDER scans\n"
     ]
    }
   ],
   "source": [
    "body_name, pos, neg, total = count_distrib(df_XR_SHOULDER, 'XR_SHOULDER')\n",
    "\n",
    "training_data_distr.append(\n",
    "                    {\n",
    "                    'body_part': body_name,\n",
    "                    'positive': pos,\n",
    "                    'negative': neg,\n",
    "                    'total':total\n",
    "                    })"
   ]
  },
  {
   "cell_type": "markdown",
   "id": "c12d50a5",
   "metadata": {
    "papermill": {
     "duration": 0.165926,
     "end_time": "2022-02-24T11:29:58.241390",
     "exception": false,
     "start_time": "2022-02-24T11:29:58.075464",
     "status": "completed"
    },
    "tags": []
   },
   "source": [
    "### 7. Wrist Joint"
   ]
  },
  {
   "cell_type": "code",
   "execution_count": 38,
   "id": "4b46f0d8",
   "metadata": {
    "execution": {
     "iopub.execute_input": "2022-02-24T11:29:58.532378Z",
     "iopub.status.busy": "2022-02-24T11:29:58.531443Z",
     "iopub.status.idle": "2022-02-24T11:29:58.536844Z",
     "shell.execute_reply": "2022-02-24T11:29:58.536212Z",
     "shell.execute_reply.started": "2022-02-24T11:22:47.214844Z"
    },
    "hideCode": false,
    "hidePrompt": false,
    "id": "5uQH-lATQYXP",
    "outputId": "aeb70fe3-3a6e-4e83-f733-fc01706ca322",
    "papermill": {
     "duration": 0.150567,
     "end_time": "2022-02-24T11:29:58.537054",
     "exception": false,
     "start_time": "2022-02-24T11:29:58.386487",
     "status": "completed"
    },
    "tags": []
   },
   "outputs": [],
   "source": [
    "df_XR_WRIST = grouped.get_group(\"XR_WRIST\")"
   ]
  },
  {
   "cell_type": "code",
   "execution_count": 39,
   "id": "47bdb164",
   "metadata": {
    "execution": {
     "iopub.execute_input": "2022-02-24T11:29:58.834770Z",
     "iopub.status.busy": "2022-02-24T11:29:58.833801Z",
     "iopub.status.idle": "2022-02-24T11:29:58.837747Z",
     "shell.execute_reply": "2022-02-24T11:29:58.838868Z",
     "shell.execute_reply.started": "2022-02-24T11:22:47.225209Z"
    },
    "hideCode": false,
    "hidePrompt": false,
    "id": "MTossDCMQYXP",
    "outputId": "189dafb4-e4c4-4e9c-e712-d46ee256f761",
    "papermill": {
     "duration": 0.157109,
     "end_time": "2022-02-24T11:29:58.839205",
     "exception": false,
     "start_time": "2022-02-24T11:29:58.682096",
     "status": "completed"
    },
    "tags": []
   },
   "outputs": [
    {
     "name": "stdout",
     "output_type": "stream",
     "text": [
      "Number of training XR_WRIST:  9756\n"
     ]
    }
   ],
   "source": [
    "print(\"Number of training XR_WRIST: \",len(df_XR_WRIST))"
   ]
  },
  {
   "cell_type": "code",
   "execution_count": 40,
   "id": "d4a3d0cf",
   "metadata": {
    "execution": {
     "iopub.execute_input": "2022-02-24T11:29:59.137748Z",
     "iopub.status.busy": "2022-02-24T11:29:59.136881Z",
     "iopub.status.idle": "2022-02-24T11:29:59.151185Z",
     "shell.execute_reply": "2022-02-24T11:29:59.151766Z",
     "shell.execute_reply.started": "2022-02-24T11:22:47.233100Z"
    },
    "hideCode": false,
    "hidePrompt": false,
    "id": "Nhi8noZJQYXQ",
    "outputId": "1442d5ef-5158-4189-f5d3-640c1a2b6947",
    "papermill": {
     "duration": 0.160577,
     "end_time": "2022-02-24T11:29:59.151963",
     "exception": false,
     "start_time": "2022-02-24T11:29:58.991386",
     "status": "completed"
    },
    "tags": []
   },
   "outputs": [
    {
     "name": "stdout",
     "output_type": "stream",
     "text": [
      "We have 3987 positive with abnormality XR_WRIST scans\n",
      "We have 5769 negative with abnormality XR_WRIST scans\n"
     ]
    }
   ],
   "source": [
    "body_name, pos, neg, total = count_distrib(df_XR_WRIST, 'XR_WRIST')\n",
    "\n",
    "training_data_distr.append(\n",
    "                    {\n",
    "                    'body_part': body_name,\n",
    "                    'positive': pos,\n",
    "                    'negative': neg,\n",
    "                    'total':total\n",
    "                    })"
   ]
  },
  {
   "cell_type": "markdown",
   "id": "8353d65f",
   "metadata": {
    "hideCode": false,
    "hidePrompt": false,
    "id": "mUEFk4saQYXQ",
    "papermill": {
     "duration": 0.129676,
     "end_time": "2022-02-24T11:29:59.431912",
     "exception": false,
     "start_time": "2022-02-24T11:29:59.302236",
     "status": "completed"
    },
    "tags": []
   },
   "source": [
    "### Explore data distribution with plots"
   ]
  },
  {
   "cell_type": "code",
   "execution_count": 41,
   "id": "f8c86088",
   "metadata": {
    "execution": {
     "iopub.execute_input": "2022-02-24T11:29:59.703500Z",
     "iopub.status.busy": "2022-02-24T11:29:59.702711Z",
     "iopub.status.idle": "2022-02-24T11:29:59.711804Z",
     "shell.execute_reply": "2022-02-24T11:29:59.713883Z",
     "shell.execute_reply.started": "2022-02-24T11:22:47.254763Z"
    },
    "hideCode": false,
    "hidePrompt": false,
    "id": "KT9fbKkYQYXQ",
    "papermill": {
     "duration": 0.15261,
     "end_time": "2022-02-24T11:29:59.714201",
     "exception": false,
     "start_time": "2022-02-24T11:29:59.561591",
     "status": "completed"
    },
    "tags": []
   },
   "outputs": [],
   "source": [
    "training_data_distr = pd.DataFrame(training_data_distr)"
   ]
  },
  {
   "cell_type": "code",
   "execution_count": 42,
   "id": "609dc2fa",
   "metadata": {
    "execution": {
     "iopub.execute_input": "2022-02-24T11:29:59.974761Z",
     "iopub.status.busy": "2022-02-24T11:29:59.973952Z",
     "iopub.status.idle": "2022-02-24T11:29:59.983829Z",
     "shell.execute_reply": "2022-02-24T11:29:59.984597Z",
     "shell.execute_reply.started": "2022-02-24T11:22:47.261149Z"
    },
    "hideCode": false,
    "hidePrompt": false,
    "id": "c_Hof9HOQYXQ",
    "papermill": {
     "duration": 0.149596,
     "end_time": "2022-02-24T11:29:59.984793",
     "exception": false,
     "start_time": "2022-02-24T11:29:59.835197",
     "status": "completed"
    },
    "tags": []
   },
   "outputs": [],
   "source": [
    "training_data_distr['percentage'] = round(100 * training_data_distr['total'] / len(df_train.body_part), 2)"
   ]
  },
  {
   "cell_type": "markdown",
   "id": "e00ff470",
   "metadata": {
    "papermill": {
     "duration": 0.180209,
     "end_time": "2022-02-24T11:30:00.359684",
     "exception": false,
     "start_time": "2022-02-24T11:30:00.179475",
     "status": "completed"
    },
    "tags": []
   },
   "source": [
    "#### The Overview of our Training Dataset"
   ]
  },
  {
   "cell_type": "code",
   "execution_count": 43,
   "id": "a561091f",
   "metadata": {
    "execution": {
     "iopub.execute_input": "2022-02-24T11:30:00.692752Z",
     "iopub.status.busy": "2022-02-24T11:30:00.691654Z",
     "iopub.status.idle": "2022-02-24T11:30:00.699664Z",
     "shell.execute_reply": "2022-02-24T11:30:00.700675Z",
     "shell.execute_reply.started": "2022-02-24T11:22:47.273136Z"
    },
    "hideCode": false,
    "hidePrompt": false,
    "id": "tOPDhMveQYXQ",
    "outputId": "79f9ee73-4fce-4db6-ca2b-3bbc7fd74bb8",
    "papermill": {
     "duration": 0.198644,
     "end_time": "2022-02-24T11:30:00.700906",
     "exception": false,
     "start_time": "2022-02-24T11:30:00.502262",
     "status": "completed"
    },
    "tags": []
   },
   "outputs": [
    {
     "name": "stdout",
     "output_type": "stream",
     "text": [
      "Training Data Distribution\n"
     ]
    },
    {
     "data": {
      "text/html": [
       "<div>\n",
       "<style scoped>\n",
       "    .dataframe tbody tr th:only-of-type {\n",
       "        vertical-align: middle;\n",
       "    }\n",
       "\n",
       "    .dataframe tbody tr th {\n",
       "        vertical-align: top;\n",
       "    }\n",
       "\n",
       "    .dataframe thead th {\n",
       "        text-align: right;\n",
       "    }\n",
       "</style>\n",
       "<table border=\"1\" class=\"dataframe\">\n",
       "  <thead>\n",
       "    <tr style=\"text-align: right;\">\n",
       "      <th></th>\n",
       "      <th>body_part</th>\n",
       "      <th>positive</th>\n",
       "      <th>negative</th>\n",
       "      <th>total</th>\n",
       "      <th>percentage</th>\n",
       "    </tr>\n",
       "  </thead>\n",
       "  <tbody>\n",
       "    <tr>\n",
       "      <th>0</th>\n",
       "      <td>XR_ELBOW</td>\n",
       "      <td>2006</td>\n",
       "      <td>2925</td>\n",
       "      <td>4931</td>\n",
       "      <td>13.40</td>\n",
       "    </tr>\n",
       "    <tr>\n",
       "      <th>1</th>\n",
       "      <td>XR_FINGER</td>\n",
       "      <td>1968</td>\n",
       "      <td>3138</td>\n",
       "      <td>5106</td>\n",
       "      <td>13.87</td>\n",
       "    </tr>\n",
       "    <tr>\n",
       "      <th>2</th>\n",
       "      <td>XR_FOREARM</td>\n",
       "      <td>661</td>\n",
       "      <td>1164</td>\n",
       "      <td>1825</td>\n",
       "      <td>4.96</td>\n",
       "    </tr>\n",
       "    <tr>\n",
       "      <th>3</th>\n",
       "      <td>XR_HAND</td>\n",
       "      <td>1484</td>\n",
       "      <td>4059</td>\n",
       "      <td>5543</td>\n",
       "      <td>15.06</td>\n",
       "    </tr>\n",
       "    <tr>\n",
       "      <th>4</th>\n",
       "      <td>XR_HUMERUS</td>\n",
       "      <td>599</td>\n",
       "      <td>673</td>\n",
       "      <td>1272</td>\n",
       "      <td>3.46</td>\n",
       "    </tr>\n",
       "    <tr>\n",
       "      <th>5</th>\n",
       "      <td>XR_SHOULDER</td>\n",
       "      <td>4168</td>\n",
       "      <td>4211</td>\n",
       "      <td>8379</td>\n",
       "      <td>22.76</td>\n",
       "    </tr>\n",
       "    <tr>\n",
       "      <th>6</th>\n",
       "      <td>XR_WRIST</td>\n",
       "      <td>3987</td>\n",
       "      <td>5769</td>\n",
       "      <td>9756</td>\n",
       "      <td>26.50</td>\n",
       "    </tr>\n",
       "  </tbody>\n",
       "</table>\n",
       "</div>"
      ],
      "text/plain": [
       "     body_part  positive  negative  total  percentage\n",
       "0     XR_ELBOW      2006      2925   4931       13.40\n",
       "1    XR_FINGER      1968      3138   5106       13.87\n",
       "2   XR_FOREARM       661      1164   1825        4.96\n",
       "3      XR_HAND      1484      4059   5543       15.06\n",
       "4   XR_HUMERUS       599       673   1272        3.46\n",
       "5  XR_SHOULDER      4168      4211   8379       22.76\n",
       "6     XR_WRIST      3987      5769   9756       26.50"
      ]
     },
     "execution_count": 43,
     "metadata": {},
     "output_type": "execute_result"
    }
   ],
   "source": [
    "print('Training Data Distribution')\n",
    "training_data_distr"
   ]
  },
  {
   "cell_type": "code",
   "execution_count": 44,
   "id": "c70279bf",
   "metadata": {
    "execution": {
     "iopub.execute_input": "2022-02-24T11:30:01.069592Z",
     "iopub.status.busy": "2022-02-24T11:30:01.068565Z",
     "iopub.status.idle": "2022-02-24T11:30:01.664566Z",
     "shell.execute_reply": "2022-02-24T11:30:01.665186Z",
     "shell.execute_reply.started": "2022-02-24T11:22:47.291142Z"
    },
    "hideCode": false,
    "hidePrompt": false,
    "id": "rckeME41QYXQ",
    "outputId": "e95686ba-3150-48f1-c89c-1f83ff0197b5",
    "papermill": {
     "duration": 0.789523,
     "end_time": "2022-02-24T11:30:01.665416",
     "exception": false,
     "start_time": "2022-02-24T11:30:00.875893",
     "status": "completed"
    },
    "tags": []
   },
   "outputs": [
    {
     "data": {
      "image/png": "[encoded data removed]",
      "text/plain": [
       "<Figure size 1008x720 with 1 Axes>"
      ]
     },
     "metadata": {
      "needs_background": "light"
     },
     "output_type": "display_data"
    }
   ],
   "source": [
    "labels = training_data_distr['body_part']\n",
    "negative = training_data_distr['negative']\n",
    "positive = training_data_distr['positive']\n",
    "\n",
    "x = np.arange(len(labels))\n",
    "width = 0.25\n",
    "\n",
    "fig = plt.figure(figsize=(14, 10))\n",
    "\n",
    "ax = fig.subplots()\n",
    "rects1 = ax.bar(x - width/2, negative, width, label='Negative')\n",
    "rects2 = ax.bar(x + width/2, positive, width, label='Positive')\n",
    "ax.set_ylabel('Number of Body Parts')\n",
    "ax.set_xlabel('Body Parts')\n",
    "ax.set_title('Counts distribution of X-Ray fro each part of body')\n",
    "ax.set_xticks(x)\n",
    "ax.set_xticklabels(labels)\n",
    "ax.legend()\n",
    "\n",
    "def autolabel(rects):\n",
    "    for rect in rects:\n",
    "        height = rect.get_height()\n",
    "        ax.text(rect.get_x() + rect.get_width()/2., 1.00*height,\n",
    "                '%d' % int(height),\n",
    "                ha='center', va='bottom')\n",
    "\n",
    "autolabel(rects1)\n",
    "autolabel(rects2)\n",
    "\n",
    "plt.show()"
   ]
  },
  {
   "cell_type": "markdown",
   "id": "c0fcb1c9",
   "metadata": {
    "papermill": {
     "duration": 0.256954,
     "end_time": "2022-02-24T11:30:02.151450",
     "exception": false,
     "start_time": "2022-02-24T11:30:01.894496",
     "status": "completed"
    },
    "tags": []
   },
   "source": [
    "### Observation from the graph is -\n",
    "* We have the least data for Humerus Joint followed by Forearm.\n",
    "* We have the largest data for Wrist and Shoulder.\n",
    "* This variation in the data point will make it more harder for the model to learn about Abnormality in Humerus and Forearm joint.\n"
   ]
  },
  {
   "cell_type": "markdown",
   "id": "b74e201d",
   "metadata": {
    "papermill": {
     "duration": 0.253847,
     "end_time": "2022-02-24T11:30:02.655128",
     "exception": false,
     "start_time": "2022-02-24T11:30:02.401281",
     "status": "completed"
    },
    "tags": []
   },
   "source": [
    "### Let us analyze dataset more\n",
    "\n",
    "##### 1. Training Set"
   ]
  },
  {
   "cell_type": "code",
   "execution_count": 45,
   "id": "32de4916",
   "metadata": {
    "execution": {
     "iopub.execute_input": "2022-02-24T11:30:03.106742Z",
     "iopub.status.busy": "2022-02-24T11:30:03.098186Z",
     "iopub.status.idle": "2022-02-24T11:30:03.123265Z",
     "shell.execute_reply": "2022-02-24T11:30:03.121833Z",
     "shell.execute_reply.started": "2022-02-24T11:22:47.609118Z"
    },
    "hideCode": false,
    "hidePrompt": false,
    "id": "S7hHeL3cQYXR",
    "papermill": {
     "duration": 0.256114,
     "end_time": "2022-02-24T11:30:03.123479",
     "exception": false,
     "start_time": "2022-02-24T11:30:02.867365",
     "status": "completed"
    },
    "tags": []
   },
   "outputs": [],
   "source": [
    "grouped = df_train.groupby(df_train.label)\n",
    "pos = len(grouped.get_group(1))\n",
    "neg = len(grouped.get_group(0))"
   ]
  },
  {
   "cell_type": "code",
   "execution_count": 46,
   "id": "af45b8f6",
   "metadata": {
    "execution": {
     "iopub.execute_input": "2022-02-24T11:30:03.527086Z",
     "iopub.status.busy": "2022-02-24T11:30:03.526377Z",
     "iopub.status.idle": "2022-02-24T11:30:03.538892Z",
     "shell.execute_reply": "2022-02-24T11:30:03.536522Z",
     "shell.execute_reply.started": "2022-02-24T11:22:47.620656Z"
    },
    "hideCode": false,
    "hidePrompt": false,
    "id": "AJsg08T-QYXR",
    "outputId": "645966d6-5e39-42bc-8fd5-73b765573d49",
    "papermill": {
     "duration": 0.218223,
     "end_time": "2022-02-24T11:30:03.539106",
     "exception": false,
     "start_time": "2022-02-24T11:30:03.320883",
     "status": "completed"
    },
    "tags": []
   },
   "outputs": [
    {
     "name": "stdout",
     "output_type": "stream",
     "text": [
      "Number of positives: 14873\n",
      "Number of negatives: 21939\n"
     ]
    }
   ],
   "source": [
    "print(\"Number of positives:\",pos)\n",
    "print(\"Number of negatives:\",neg)"
   ]
  },
  {
   "cell_type": "code",
   "execution_count": 47,
   "id": "5dffc560",
   "metadata": {
    "execution": {
     "iopub.execute_input": "2022-02-24T11:30:04.005953Z",
     "iopub.status.busy": "2022-02-24T11:30:03.968855Z",
     "iopub.status.idle": "2022-02-24T11:30:04.339118Z",
     "shell.execute_reply": "2022-02-24T11:30:04.339892Z",
     "shell.execute_reply.started": "2022-02-24T11:22:47.628774Z"
    },
    "hideCode": false,
    "hidePrompt": false,
    "id": "87PR4SjqQYXR",
    "outputId": "125a7524-df55-4dcf-b210-3c25830405b1",
    "papermill": {
     "duration": 0.599039,
     "end_time": "2022-02-24T11:30:04.340280",
     "exception": false,
     "start_time": "2022-02-24T11:30:03.741241",
     "status": "completed"
    },
    "tags": []
   },
   "outputs": [
    {
     "data": {
      "image/png": "[encoded data removed]",
      "text/plain": [
       "<Figure size 432x288 with 1 Axes>"
      ]
     },
     "metadata": {
      "needs_background": "light"
     },
     "output_type": "display_data"
    }
   ],
   "source": [
    "# the data you want to plot\n",
    "categories = [\"Negative\"]\n",
    "values     = [ neg]\n",
    "\n",
    "categories2 = [\"Positive\"]\n",
    "values2     = [  pos]\n",
    "\n",
    "plt.bar(categories, values)\n",
    "plt.bar(categories2, values2)\n",
    "plt.title('Distribution of X-Ray Images')\n",
    "plt.xlabel('Detection')\n",
    "plt.ylabel('count')\n",
    "\n",
    "\n",
    "plt.show()"
   ]
  },
  {
   "cell_type": "markdown",
   "id": "df0c3bdf",
   "metadata": {
    "hideCode": false,
    "hidePrompt": false,
    "id": "y6sjgNVIQYXR",
    "papermill": {
     "duration": 0.248767,
     "end_time": "2022-02-24T11:30:04.841572",
     "exception": false,
     "start_time": "2022-02-24T11:30:04.592805",
     "status": "completed"
    },
    "tags": []
   },
   "source": [
    "#### We can conclude that the dataset of trainnig data is unbalance with more negative images."
   ]
  },
  {
   "cell_type": "markdown",
   "id": "bdd816be",
   "metadata": {
    "hideCode": false,
    "hidePrompt": false,
    "id": "MV7QoPw0QYXS",
    "papermill": {
     "duration": 0.148582,
     "end_time": "2022-02-24T11:30:05.152018",
     "exception": false,
     "start_time": "2022-02-24T11:30:05.003436",
     "status": "completed"
    },
    "tags": []
   },
   "source": [
    "#### 2. Test set"
   ]
  },
  {
   "cell_type": "code",
   "execution_count": 48,
   "id": "0a231d0b",
   "metadata": {
    "execution": {
     "iopub.execute_input": "2022-02-24T11:30:05.473708Z",
     "iopub.status.busy": "2022-02-24T11:30:05.472897Z",
     "iopub.status.idle": "2022-02-24T11:30:05.478646Z",
     "shell.execute_reply": "2022-02-24T11:30:05.479455Z",
     "shell.execute_reply.started": "2022-02-24T11:22:47.773422Z"
    },
    "papermill": {
     "duration": 0.159666,
     "end_time": "2022-02-24T11:30:05.479667",
     "exception": false,
     "start_time": "2022-02-24T11:30:05.320001",
     "status": "completed"
    },
    "tags": []
   },
   "outputs": [
    {
     "data": {
      "text/plain": [
       "0    1\n",
       "1    1\n",
       "2    1\n",
       "3    0\n",
       "4    0\n",
       "Name: label, dtype: int64"
      ]
     },
     "execution_count": 48,
     "metadata": {},
     "output_type": "execute_result"
    }
   ],
   "source": [
    "df_test.label.head()"
   ]
  },
  {
   "cell_type": "code",
   "execution_count": 49,
   "id": "ba09de82",
   "metadata": {
    "execution": {
     "iopub.execute_input": "2022-02-24T11:30:05.801322Z",
     "iopub.status.busy": "2022-02-24T11:30:05.800409Z",
     "iopub.status.idle": "2022-02-24T11:30:05.813125Z",
     "shell.execute_reply": "2022-02-24T11:30:05.813803Z",
     "shell.execute_reply.started": "2022-02-24T11:22:47.780897Z"
    },
    "hideCode": false,
    "hidePrompt": false,
    "id": "89pfUDUyQYXS",
    "papermill": {
     "duration": 0.177503,
     "end_time": "2022-02-24T11:30:05.814198",
     "exception": false,
     "start_time": "2022-02-24T11:30:05.636695",
     "status": "completed"
    },
    "tags": []
   },
   "outputs": [],
   "source": [
    "grouped = df_train.groupby(df_train.label)\n",
    "pos = len(grouped.get_group(1))\n",
    "neg = len(grouped.get_group(0))"
   ]
  },
  {
   "cell_type": "code",
   "execution_count": 50,
   "id": "a92358dc",
   "metadata": {
    "execution": {
     "iopub.execute_input": "2022-02-24T11:30:06.170068Z",
     "iopub.status.busy": "2022-02-24T11:30:06.169169Z",
     "iopub.status.idle": "2022-02-24T11:30:06.174532Z",
     "shell.execute_reply": "2022-02-24T11:30:06.175163Z",
     "shell.execute_reply.started": "2022-02-24T11:22:47.796660Z"
    },
    "hideCode": false,
    "hidePrompt": false,
    "id": "mU5i9IkXQYXS",
    "outputId": "a5651fa1-a9e4-4ebf-f050-f5f16b379504",
    "papermill": {
     "duration": 0.158989,
     "end_time": "2022-02-24T11:30:06.175376",
     "exception": false,
     "start_time": "2022-02-24T11:30:06.016387",
     "status": "completed"
    },
    "tags": []
   },
   "outputs": [
    {
     "name": "stdout",
     "output_type": "stream",
     "text": [
      "Number of positives: 14873\n",
      "Number of negatives: 21939\n"
     ]
    }
   ],
   "source": [
    "print(\"Number of positives:\",pos)\n",
    "print(\"Number of negatives:\",neg)"
   ]
  },
  {
   "cell_type": "code",
   "execution_count": 51,
   "id": "612907de",
   "metadata": {
    "execution": {
     "iopub.execute_input": "2022-02-24T11:30:06.532920Z",
     "iopub.status.busy": "2022-02-24T11:30:06.530995Z",
     "iopub.status.idle": "2022-02-24T11:30:06.756329Z",
     "shell.execute_reply": "2022-02-24T11:30:06.757009Z",
     "shell.execute_reply.started": "2022-02-24T11:22:47.802994Z"
    },
    "hideCode": false,
    "hidePrompt": false,
    "id": "nW4AX4GyQYXS",
    "outputId": "b29afa5f-3593-4697-8493-847dfa09358b",
    "papermill": {
     "duration": 0.40429,
     "end_time": "2022-02-24T11:30:06.757206",
     "exception": false,
     "start_time": "2022-02-24T11:30:06.352916",
     "status": "completed"
    },
    "tags": []
   },
   "outputs": [
    {
     "data": {
      "image/png": "[encoded data removed]",
      "text/plain": [
       "<Figure size 432x288 with 1 Axes>"
      ]
     },
     "metadata": {
      "needs_background": "light"
     },
     "output_type": "display_data"
    }
   ],
   "source": [
    "categories = [\"Negative\"]\n",
    "values     = [ neg]\n",
    "categories2 = [\"Positive\"]\n",
    "values2     = [  pos]\n",
    "plt.bar(categories, values)\n",
    "plt.bar(categories2, values2)\n",
    "plt.title('Distribution of X-Ray')\n",
    "plt.xlabel('labels')\n",
    "plt.ylabel('count')\n",
    "plt.show()"
   ]
  },
  {
   "cell_type": "markdown",
   "id": "28e2d56c",
   "metadata": {
    "hideCode": false,
    "hidePrompt": false,
    "id": "-_tufk8uQYXT",
    "papermill": {
     "duration": 0.1856,
     "end_time": "2022-02-24T11:30:07.099354",
     "exception": false,
     "start_time": "2022-02-24T11:30:06.913754",
     "status": "completed"
    },
    "tags": []
   },
   "source": [
    "#### The dataset of test data is far more balance than train data.\n"
   ]
  },
  {
   "cell_type": "markdown",
   "id": "00bf8347",
   "metadata": {
    "hideCode": false,
    "hidePrompt": false,
    "id": "X-z2ib38QYXI",
    "papermill": {
     "duration": 0.171093,
     "end_time": "2022-02-24T11:30:07.438133",
     "exception": false,
     "start_time": "2022-02-24T11:30:07.267040",
     "status": "completed"
    },
    "tags": []
   },
   "source": [
    "## Now Preprocessing some Images ."
   ]
  },
  {
   "cell_type": "code",
   "execution_count": 52,
   "id": "a1518005",
   "metadata": {
    "execution": {
     "iopub.execute_input": "2022-02-24T11:30:07.780718Z",
     "iopub.status.busy": "2022-02-24T11:30:07.779882Z",
     "iopub.status.idle": "2022-02-24T11:30:07.786126Z",
     "shell.execute_reply": "2022-02-24T11:30:07.787307Z",
     "shell.execute_reply.started": "2022-02-24T11:22:47.950849Z"
    },
    "hideCode": false,
    "hidePrompt": false,
    "id": "l_M_eM2tQYXI",
    "papermill": {
     "duration": 0.180949,
     "end_time": "2022-02-24T11:30:07.788030",
     "exception": false,
     "start_time": "2022-02-24T11:30:07.607081",
     "status": "completed"
    },
    "tags": []
   },
   "outputs": [],
   "source": [
    "im_size = 256"
   ]
  },
  {
   "cell_type": "markdown",
   "id": "3f33133e",
   "metadata": {
    "papermill": {
     "duration": 0.146096,
     "end_time": "2022-02-24T11:30:08.109923",
     "exception": false,
     "start_time": "2022-02-24T11:30:07.963827",
     "status": "completed"
    },
    "tags": []
   },
   "source": [
    "#### Random Rotation flip"
   ]
  },
  {
   "cell_type": "code",
   "execution_count": 53,
   "id": "9579184d",
   "metadata": {
    "execution": {
     "iopub.execute_input": "2022-02-24T11:30:08.424582Z",
     "iopub.status.busy": "2022-02-24T11:30:08.423366Z",
     "iopub.status.idle": "2022-02-24T11:30:08.431952Z",
     "shell.execute_reply": "2022-02-24T11:30:08.433180Z",
     "shell.execute_reply.started": "2022-02-24T11:22:47.956423Z"
    },
    "hideCode": false,
    "hidePrompt": false,
    "id": "7lSfSEP9QYXI",
    "papermill": {
     "duration": 0.156506,
     "end_time": "2022-02-24T11:30:08.433427",
     "exception": false,
     "start_time": "2022-02-24T11:30:08.276921",
     "status": "completed"
    },
    "tags": []
   },
   "outputs": [],
   "source": [
    "def random_rotation_flip(image,size = 256):\n",
    "    if random.randint(0,1):\n",
    "        image = cv2.flip(image,1) # 1-->horizontal flip 0-->Vertical flip -1-->Horizontal and vertical\n",
    "\n",
    "    if random.randint(0,1):\n",
    "            angle = random.randint(-30,30)\n",
    "            M = cv2.getRotationMatrix2D((size/2,size/2),angle,1)\n",
    "            #The third parameter: the size of the transformed image\n",
    "            image = cv2.warpAffine(image,M,(size,size))\n",
    "    return image"
   ]
  },
  {
   "cell_type": "code",
   "execution_count": 54,
   "id": "b8345c35",
   "metadata": {
    "execution": {
     "iopub.execute_input": "2022-02-24T11:30:08.748672Z",
     "iopub.status.busy": "2022-02-24T11:30:08.742284Z",
     "iopub.status.idle": "2022-02-24T11:30:08.752410Z",
     "shell.execute_reply": "2022-02-24T11:30:08.753332Z",
     "shell.execute_reply.started": "2022-02-24T11:22:47.967398Z"
    },
    "hideCode": false,
    "hidePrompt": false,
    "id": "_Ba18mEbQYXJ",
    "papermill": {
     "duration": 0.171296,
     "end_time": "2022-02-24T11:30:08.753580",
     "exception": false,
     "start_time": "2022-02-24T11:30:08.582284",
     "status": "completed"
    },
    "tags": []
   },
   "outputs": [],
   "source": [
    "def image_loader(Path, size = 224):\n",
    "    \n",
    "    Images = []\n",
    "    \n",
    "    for path in tqdm(Path):\n",
    "        try:\n",
    "            image = cv2.imread(path,cv2.IMREAD_GRAYSCALE)\n",
    "            image = cv2.resize(image,(size,size))\n",
    "            image = random_rotation_flip(image,size)\n",
    "            Images.append(image)\n",
    "        \n",
    "        except Exception as e:\n",
    "            print(str(e))\n",
    "            \n",
    "    Images = np.asarray(Images).astype('float32')\n",
    "\n",
    "    #normalization\n",
    "    mean = np.mean(Images)\n",
    "    std = np.std(Images)\n",
    "    Images = (Images - mean) / std\n",
    "    \n",
    "    return Images"
   ]
  },
  {
   "cell_type": "code",
   "execution_count": 55,
   "id": "29b22ec4",
   "metadata": {
    "execution": {
     "iopub.execute_input": "2022-02-24T11:30:09.051633Z",
     "iopub.status.busy": "2022-02-24T11:30:09.046394Z",
     "iopub.status.idle": "2022-02-24T11:30:09.065283Z",
     "shell.execute_reply": "2022-02-24T11:30:09.064639Z",
     "shell.execute_reply.started": "2022-02-24T11:22:47.979405Z"
    },
    "papermill": {
     "duration": 0.168765,
     "end_time": "2022-02-24T11:30:09.065447",
     "exception": false,
     "start_time": "2022-02-24T11:30:08.896682",
     "status": "completed"
    },
    "tags": []
   },
   "outputs": [
    {
     "data": {
      "text/html": [
       "<div>\n",
       "<style scoped>\n",
       "    .dataframe tbody tr th:only-of-type {\n",
       "        vertical-align: middle;\n",
       "    }\n",
       "\n",
       "    .dataframe tbody tr th {\n",
       "        vertical-align: top;\n",
       "    }\n",
       "\n",
       "    .dataframe thead th {\n",
       "        text-align: right;\n",
       "    }\n",
       "</style>\n",
       "<table border=\"1\" class=\"dataframe\">\n",
       "  <thead>\n",
       "    <tr style=\"text-align: right;\">\n",
       "      <th></th>\n",
       "      <th>body_part</th>\n",
       "      <th>patient_id</th>\n",
       "      <th>label</th>\n",
       "      <th>img_path</th>\n",
       "      <th>label_index</th>\n",
       "    </tr>\n",
       "  </thead>\n",
       "  <tbody>\n",
       "    <tr>\n",
       "      <th>0</th>\n",
       "      <td>XR_WRIST</td>\n",
       "      <td>patient07547</td>\n",
       "      <td>0</td>\n",
       "      <td>MURA-v1.1/train/XR_WRIST/patient07547/study1_n...</td>\n",
       "      <td>0</td>\n",
       "    </tr>\n",
       "    <tr>\n",
       "      <th>1</th>\n",
       "      <td>XR_WRIST</td>\n",
       "      <td>patient07547</td>\n",
       "      <td>0</td>\n",
       "      <td>MURA-v1.1/train/XR_WRIST/patient07547/study1_n...</td>\n",
       "      <td>0</td>\n",
       "    </tr>\n",
       "    <tr>\n",
       "      <th>2</th>\n",
       "      <td>XR_WRIST</td>\n",
       "      <td>patient07547</td>\n",
       "      <td>0</td>\n",
       "      <td>MURA-v1.1/train/XR_WRIST/patient07547/study1_n...</td>\n",
       "      <td>0</td>\n",
       "    </tr>\n",
       "    <tr>\n",
       "      <th>3</th>\n",
       "      <td>XR_WRIST</td>\n",
       "      <td>patient07547</td>\n",
       "      <td>0</td>\n",
       "      <td>MURA-v1.1/train/XR_WRIST/patient07547/study2_n...</td>\n",
       "      <td>0</td>\n",
       "    </tr>\n",
       "    <tr>\n",
       "      <th>4</th>\n",
       "      <td>XR_WRIST</td>\n",
       "      <td>patient07547</td>\n",
       "      <td>0</td>\n",
       "      <td>MURA-v1.1/train/XR_WRIST/patient07547/study2_n...</td>\n",
       "      <td>0</td>\n",
       "    </tr>\n",
       "  </tbody>\n",
       "</table>\n",
       "</div>"
      ],
      "text/plain": [
       "  body_part    patient_id  label  \\\n",
       "0  XR_WRIST  patient07547      0   \n",
       "1  XR_WRIST  patient07547      0   \n",
       "2  XR_WRIST  patient07547      0   \n",
       "3  XR_WRIST  patient07547      0   \n",
       "4  XR_WRIST  patient07547      0   \n",
       "\n",
       "                                            img_path  label_index  \n",
       "0  MURA-v1.1/train/XR_WRIST/patient07547/study1_n...            0  \n",
       "1  MURA-v1.1/train/XR_WRIST/patient07547/study1_n...            0  \n",
       "2  MURA-v1.1/train/XR_WRIST/patient07547/study1_n...            0  \n",
       "3  MURA-v1.1/train/XR_WRIST/patient07547/study2_n...            0  \n",
       "4  MURA-v1.1/train/XR_WRIST/patient07547/study2_n...            0  "
      ]
     },
     "execution_count": 55,
     "metadata": {},
     "output_type": "execute_result"
    }
   ],
   "source": [
    "df_train.head()"
   ]
  },
  {
   "cell_type": "code",
   "execution_count": 56,
   "id": "63c3b0f3",
   "metadata": {
    "execution": {
     "iopub.execute_input": "2022-02-24T11:30:09.371905Z",
     "iopub.status.busy": "2022-02-24T11:30:09.369845Z",
     "iopub.status.idle": "2022-02-24T11:30:09.377872Z",
     "shell.execute_reply": "2022-02-24T11:30:09.378917Z",
     "shell.execute_reply.started": "2022-02-24T11:22:47.996348Z"
    },
    "papermill": {
     "duration": 0.161425,
     "end_time": "2022-02-24T11:30:09.379151",
     "exception": false,
     "start_time": "2022-02-24T11:30:09.217726",
     "status": "completed"
    },
    "tags": []
   },
   "outputs": [
    {
     "name": "stdout",
     "output_type": "stream",
     "text": [
      "[Errno 2] No such file or directory: '../input/mura-v11'\n",
      "/kaggle/input/mura-v11\n"
     ]
    }
   ],
   "source": [
    "cd ../input/mura-v11"
   ]
  },
  {
   "cell_type": "code",
   "execution_count": 57,
   "id": "f0019c0b",
   "metadata": {
    "execution": {
     "iopub.execute_input": "2022-02-24T11:30:09.672286Z",
     "iopub.status.busy": "2022-02-24T11:30:09.671036Z",
     "iopub.status.idle": "2022-02-24T11:30:10.573385Z",
     "shell.execute_reply": "2022-02-24T11:30:10.572402Z",
     "shell.execute_reply.started": "2022-02-24T11:22:48.002970Z"
    },
    "hideCode": false,
    "hidePrompt": false,
    "id": "RLiwAYT7QYXJ",
    "outputId": "6dcc2334-4d07-47aa-c25d-686792cf36f4",
    "papermill": {
     "duration": 1.040711,
     "end_time": "2022-02-24T11:30:10.573571",
     "exception": false,
     "start_time": "2022-02-24T11:30:09.532860",
     "status": "completed"
    },
    "tags": []
   },
   "outputs": [
    {
     "name": "stderr",
     "output_type": "stream",
     "text": [
      "100%|██████████| 50/50 [00:00<00:00, 58.72it/s]\n"
     ]
    }
   ],
   "source": [
    "X_train = image_loader(df_train['img_path'][:50,],im_size)"
   ]
  },
  {
   "cell_type": "code",
   "execution_count": 58,
   "id": "e8b93c10",
   "metadata": {
    "execution": {
     "iopub.execute_input": "2022-02-24T11:30:10.881776Z",
     "iopub.status.busy": "2022-02-24T11:30:10.880398Z",
     "iopub.status.idle": "2022-02-24T11:30:10.886844Z",
     "shell.execute_reply": "2022-02-24T11:30:10.888298Z",
     "shell.execute_reply.started": "2022-02-24T11:22:48.714640Z"
    },
    "hideCode": false,
    "hidePrompt": false,
    "id": "s2XVXEj_QYXK",
    "papermill": {
     "duration": 0.15957,
     "end_time": "2022-02-24T11:30:10.888538",
     "exception": false,
     "start_time": "2022-02-24T11:30:10.728968",
     "status": "completed"
    },
    "tags": []
   },
   "outputs": [],
   "source": [
    "y_train = df_train['label']\n",
    "Y_train = y_train.replace(\"positive\",1)\n",
    "Y_train = Y_train.replace(\"negative\",0)"
   ]
  },
  {
   "cell_type": "code",
   "execution_count": 59,
   "id": "db903fe5",
   "metadata": {
    "execution": {
     "iopub.execute_input": "2022-02-24T11:30:11.255600Z",
     "iopub.status.busy": "2022-02-24T11:30:11.254776Z",
     "iopub.status.idle": "2022-02-24T11:30:12.017932Z",
     "shell.execute_reply": "2022-02-24T11:30:12.017342Z",
     "shell.execute_reply.started": "2022-02-24T11:22:48.720791Z"
    },
    "hideCode": false,
    "hidePrompt": false,
    "id": "AFrV4gRlQYXK",
    "outputId": "f040f800-a3c4-435e-9cc7-ee157bebcb98",
    "papermill": {
     "duration": 0.954277,
     "end_time": "2022-02-24T11:30:12.018104",
     "exception": false,
     "start_time": "2022-02-24T11:30:11.063827",
     "status": "completed"
    },
    "tags": []
   },
   "outputs": [
    {
     "name": "stderr",
     "output_type": "stream",
     "text": [
      "100%|██████████| 50/50 [00:00<00:00, 70.43it/s]\n"
     ]
    }
   ],
   "source": [
    "X_test = image_loader(df_test['img_path'][:50,],im_size)"
   ]
  },
  {
   "cell_type": "code",
   "execution_count": 60,
   "id": "d50d8ddd",
   "metadata": {
    "execution": {
     "iopub.execute_input": "2022-02-24T11:30:12.381953Z",
     "iopub.status.busy": "2022-02-24T11:30:12.380428Z",
     "iopub.status.idle": "2022-02-24T11:30:12.390785Z",
     "shell.execute_reply": "2022-02-24T11:30:12.390108Z",
     "shell.execute_reply.started": "2022-02-24T11:22:49.336519Z"
    },
    "hideCode": false,
    "hidePrompt": false,
    "id": "pBGbBM28QYXL",
    "papermill": {
     "duration": 0.194671,
     "end_time": "2022-02-24T11:30:12.390959",
     "exception": false,
     "start_time": "2022-02-24T11:30:12.196288",
     "status": "completed"
    },
    "tags": []
   },
   "outputs": [],
   "source": [
    "y_test = df_test['label']\n",
    "Y_test = y_test.replace(\"positive\",1)\n",
    "Y_test = Y_test.replace(\"negative\",0)"
   ]
  },
  {
   "cell_type": "markdown",
   "id": "8851a8c5",
   "metadata": {
    "id": "R1jRII0WLdRS",
    "papermill": {
     "duration": 0.18079,
     "end_time": "2022-02-24T11:30:12.743346",
     "exception": false,
     "start_time": "2022-02-24T11:30:12.562556",
     "status": "completed"
    },
    "tags": []
   },
   "source": [
    "### Plots/ Visualization of Images."
   ]
  },
  {
   "cell_type": "code",
   "execution_count": 61,
   "id": "7d634324",
   "metadata": {
    "execution": {
     "iopub.execute_input": "2022-02-24T11:30:13.082042Z",
     "iopub.status.busy": "2022-02-24T11:30:13.080971Z",
     "iopub.status.idle": "2022-02-24T11:30:13.084434Z",
     "shell.execute_reply": "2022-02-24T11:30:13.083705Z",
     "shell.execute_reply.started": "2022-02-24T11:22:49.342702Z"
    },
    "hideCode": false,
    "hidePrompt": false,
    "id": "w6MksqovQYXU",
    "papermill": {
     "duration": 0.168029,
     "end_time": "2022-02-24T11:30:13.084611",
     "exception": false,
     "start_time": "2022-02-24T11:30:12.916582",
     "status": "completed"
    },
    "tags": []
   },
   "outputs": [],
   "source": [
    "def print_img_with_colorbar(image):   \n",
    "    fig = plt.figure()\n",
    "    plt.imshow(image, cmap = plt.cm.binary)\n",
    "    plt.colorbar()"
   ]
  },
  {
   "cell_type": "code",
   "execution_count": 62,
   "id": "644050b6",
   "metadata": {
    "execution": {
     "iopub.execute_input": "2022-02-24T11:30:13.461311Z",
     "iopub.status.busy": "2022-02-24T11:30:13.455913Z",
     "iopub.status.idle": "2022-02-24T11:30:13.845847Z",
     "shell.execute_reply": "2022-02-24T11:30:13.845159Z",
     "shell.execute_reply.started": "2022-02-24T11:22:49.354565Z"
    },
    "hideCode": false,
    "hidePrompt": false,
    "id": "0f7vkZSZQYXU",
    "outputId": "f52fb682-6df9-4fed-822a-1c69ffc323d1",
    "papermill": {
     "duration": 0.593568,
     "end_time": "2022-02-24T11:30:13.846023",
     "exception": false,
     "start_time": "2022-02-24T11:30:13.252455",
     "status": "completed"
    },
    "tags": []
   },
   "outputs": [
    {
     "data": {
      "image/png": "[encoded data removed]",
      "text/plain": [
       "<Figure size 432x288 with 2 Axes>"
      ]
     },
     "metadata": {
      "needs_background": "light"
     },
     "output_type": "display_data"
    }
   ],
   "source": [
    "print_img_with_colorbar(X_train[0])"
   ]
  },
  {
   "cell_type": "code",
   "execution_count": 63,
   "id": "6a88116a",
   "metadata": {
    "execution": {
     "iopub.execute_input": "2022-02-24T11:30:14.157470Z",
     "iopub.status.busy": "2022-02-24T11:30:14.155901Z",
     "iopub.status.idle": "2022-02-24T11:30:16.586740Z",
     "shell.execute_reply": "2022-02-24T11:30:16.589633Z",
     "shell.execute_reply.started": "2022-02-24T11:22:49.629640Z"
    },
    "hideCode": false,
    "hidePrompt": false,
    "id": "i2t1nrRfQYXU",
    "papermill": {
     "duration": 2.589455,
     "end_time": "2022-02-24T11:30:16.590049",
     "exception": false,
     "start_time": "2022-02-24T11:30:14.000594",
     "status": "completed"
    },
    "tags": []
   },
   "outputs": [
    {
     "data": {
      "image/png": "[encoded data removed]",
      "text/plain": [
       "<Figure size 720x720 with 25 Axes>"
      ]
     },
     "metadata": {},
     "output_type": "display_data"
    }
   ],
   "source": [
    "def print_range_images(images, images_label):\n",
    "    plt.figure(figsize=(10,10))\n",
    "    for i in range(25):\n",
    "        plt.subplot(5,5,i+1)\n",
    "        plt.xticks([])\n",
    "        plt.yticks([])\n",
    "        plt.grid(False)\n",
    "        plt.imshow(images[i], cmap=plt.cm.binary)\n",
    "        plt.xlabel(images_label[i])\n",
    "\n",
    "print_range_images(X_train, y_train)"
   ]
  },
  {
   "cell_type": "code",
   "execution_count": 64,
   "id": "b8aaafa9",
   "metadata": {
    "execution": {
     "iopub.execute_input": "2022-02-24T11:30:16.988637Z",
     "iopub.status.busy": "2022-02-24T11:30:16.987818Z",
     "iopub.status.idle": "2022-02-24T11:30:19.449501Z",
     "shell.execute_reply": "2022-02-24T11:30:19.450883Z",
     "shell.execute_reply.started": "2022-02-24T11:22:51.044886Z"
    },
    "hideCode": false,
    "hidePrompt": false,
    "id": "QZi0i0WoQYXV",
    "outputId": "872653ee-e3e9-419a-c662-f4132ec6e9be",
    "papermill": {
     "duration": 2.655396,
     "end_time": "2022-02-24T11:30:19.451191",
     "exception": false,
     "start_time": "2022-02-24T11:30:16.795795",
     "status": "completed"
    },
    "tags": []
   },
   "outputs": [
    {
     "data": {
      "image/png": "[encoded data removed]",
      "text/plain": [
       "<Figure size 864x864 with 12 Axes>"
      ]
     },
     "metadata": {
      "needs_background": "light"
     },
     "output_type": "display_data"
    }
   ],
   "source": [
    "from skimage.io import imread\n",
    "sub_df = df_train.groupby(['body_part', 'label']).apply(lambda x: x.sample(1)).reset_index(drop = True)\n",
    "fig, (m_axs) = plt.subplots(4, sub_df.shape[0]//4, figsize = (12, 12))\n",
    "for c_ax, (_, c_row) in zip(m_axs.flatten(), sub_df.iterrows()):\n",
    "    c_ax.imshow(imread(c_row['img_path']), cmap = 'bone')\n",
    "    c_ax.axis('off')\n",
    "    c_ax.set_title('{body_part}:{label}'.format(**c_row))"
   ]
  }
 ],
 "metadata": {
  "kernelspec": {
   "display_name": "Python 3",
   "language": "python",
   "name": "python3"
  },
  "language_info": {
   "codemirror_mode": {
    "name": "ipython",
    "version": 3
   },
   "file_extension": ".py",
   "mimetype": "text/x-python",
   "name": "python",
   "nbconvert_exporter": "python",
   "pygments_lexer": "ipython3",
   "version": "3.7.12"
  },
  "papermill": {
   "default_parameters": {},
   "duration": 150.002025,
   "end_time": "2022-02-24T11:30:22.737733",
   "environment_variables": {},
   "exception": null,
   "input_path": "__notebook__.ipynb",
   "output_path": "__notebook__.ipynb",
   "parameters": {},
   "start_time": "2022-02-24T11:27:52.735708",
   "version": "2.3.3"
  }
 },
 "nbformat": 4,
 "nbformat_minor": 5
}
